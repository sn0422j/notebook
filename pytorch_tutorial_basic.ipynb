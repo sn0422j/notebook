{
  "nbformat": 4,
  "nbformat_minor": 0,
  "metadata": {
    "kernelspec": {
      "name": "python3",
      "display_name": "Python 3"
    },
    "language_info": {
      "codemirror_mode": {
        "name": "ipython",
        "version": 3
      },
      "file_extension": ".py",
      "mimetype": "text/x-python",
      "name": "python",
      "nbconvert_exporter": "python",
      "pygments_lexer": "ipython3",
      "version": "3.6.6"
    },
    "colab": {
      "name": "pytorch_tutorial_basic.ipynb",
      "provenance": [],
      "collapsed_sections": [
        "VNVJe2XH7H9l",
        "CKQaFs0pAw1Z",
        "QyFUtlP0IllI"
      ],
      "include_colab_link": true
    },
    "accelerator": "GPU"
  },
  "cells": [
    {
      "cell_type": "markdown",
      "metadata": {
        "id": "view-in-github",
        "colab_type": "text"
      },
      "source": [
        "<a href=\"https://colab.research.google.com/github/sn0422j/notebook/blob/master/pytorch_tutorial_basic.ipynb\" target=\"_parent\"><img src=\"https://colab.research.google.com/assets/colab-badge.svg\" alt=\"Open In Colab\"/></a>"
      ]
    },
    {
      "cell_type": "code",
      "metadata": {
        "id": "oWIGI7AQ7H9e",
        "colab_type": "code",
        "colab": {}
      },
      "source": [
        "%matplotlib inline"
      ],
      "execution_count": 0,
      "outputs": []
    },
    {
      "cell_type": "markdown",
      "metadata": {
        "id": "VNVJe2XH7H9l",
        "colab_type": "text"
      },
      "source": [
        "\n",
        "1.What is PyTorch?\n",
        "================\n",
        "\n",
        "https://pytorch.org/tutorials/beginner/deep_learning_60min_blitz.html\n",
        "\n",
        "It’s a Python-based scientific computing package targeted at two sets of\n",
        "audiences:\n",
        "\n",
        "-  A replacement for NumPy to use the power of GPUs\n",
        "-  a deep learning research platform that provides maximum flexibility\n",
        "   and speed\n",
        "\n",
        "\n"
      ]
    },
    {
      "cell_type": "markdown",
      "metadata": {
        "id": "T7svjBr99fug",
        "colab_type": "text"
      },
      "source": [
        "## Getting Started"
      ]
    },
    {
      "cell_type": "markdown",
      "metadata": {
        "id": "VXGuYLCy9coi",
        "colab_type": "text"
      },
      "source": [
        "### テンソル\n",
        "\n",
        "テンソルは Numpy ndarray に似ていて、GPU上での計算を高速化することができる。"
      ]
    },
    {
      "cell_type": "code",
      "metadata": {
        "id": "P-rIs4WZ7H9m",
        "colab_type": "code",
        "colab": {}
      },
      "source": [
        "from __future__ import print_function\n",
        "import torch"
      ],
      "execution_count": 0,
      "outputs": []
    },
    {
      "cell_type": "markdown",
      "metadata": {
        "id": "P4p_ddNK7H9p",
        "colab_type": "text"
      },
      "source": [
        "5x3行列をつくる。\n",
        "\n"
      ]
    },
    {
      "cell_type": "code",
      "metadata": {
        "id": "5pH9WMmx7H9q",
        "colab_type": "code",
        "outputId": "94cb8da6-ff90-4b1a-a340-498800c91ea5",
        "colab": {
          "base_uri": "https://localhost:8080/",
          "height": 0
        }
      },
      "source": [
        "x = torch.empty(5, 3)\n",
        "print(x)"
      ],
      "execution_count": 3,
      "outputs": [
        {
          "output_type": "stream",
          "text": [
            "tensor([[6.9113e-36, 0.0000e+00, 0.0000e+00],\n",
            "        [0.0000e+00, 0.0000e+00, 0.0000e+00],\n",
            "        [0.0000e+00, 0.0000e+00, 2.8026e-45],\n",
            "        [0.0000e+00, 1.1210e-44, 0.0000e+00],\n",
            "        [1.4013e-45, 0.0000e+00, 0.0000e+00]])\n"
          ],
          "name": "stdout"
        }
      ]
    },
    {
      "cell_type": "markdown",
      "metadata": {
        "id": "XMsCNfFm7H9t",
        "colab_type": "text"
      },
      "source": [
        "ランダムな行列をつくる。\n",
        "\n"
      ]
    },
    {
      "cell_type": "code",
      "metadata": {
        "id": "zwjCcD3s7H9u",
        "colab_type": "code",
        "outputId": "8bf4f5ab-90fb-48e1-b102-5f2511ea977f",
        "colab": {
          "base_uri": "https://localhost:8080/",
          "height": 0
        }
      },
      "source": [
        "x = torch.rand(5, 3)\n",
        "print(x)"
      ],
      "execution_count": 4,
      "outputs": [
        {
          "output_type": "stream",
          "text": [
            "tensor([[0.2553, 0.3564, 0.0559],\n",
            "        [0.3048, 0.2562, 0.0573],\n",
            "        [0.3803, 0.6725, 0.8471],\n",
            "        [0.7688, 0.8718, 0.6431],\n",
            "        [0.3577, 0.9662, 0.2733]])\n"
          ],
          "name": "stdout"
        }
      ]
    },
    {
      "cell_type": "markdown",
      "metadata": {
        "id": "5Fjp4aEq7H91",
        "colab_type": "text"
      },
      "source": [
        "dtype=longの零行列をつくる。"
      ]
    },
    {
      "cell_type": "code",
      "metadata": {
        "id": "0NgNOyuj7H93",
        "colab_type": "code",
        "outputId": "9d3ac498-7f21-46c9-a51c-5f60d7daab37",
        "colab": {
          "base_uri": "https://localhost:8080/",
          "height": 0
        }
      },
      "source": [
        "x = torch.zeros(5, 3, dtype=torch.long)\n",
        "print(x)"
      ],
      "execution_count": 5,
      "outputs": [
        {
          "output_type": "stream",
          "text": [
            "tensor([[0, 0, 0],\n",
            "        [0, 0, 0],\n",
            "        [0, 0, 0],\n",
            "        [0, 0, 0],\n",
            "        [0, 0, 0]])\n"
          ],
          "name": "stdout"
        }
      ]
    },
    {
      "cell_type": "markdown",
      "metadata": {
        "id": "FGJhHrZZ7H97",
        "colab_type": "text"
      },
      "source": [
        "データからテンソルをつくる。\n"
      ]
    },
    {
      "cell_type": "code",
      "metadata": {
        "id": "OvKKH_C97H98",
        "colab_type": "code",
        "outputId": "17106c40-a9e4-4eb1-801d-9a2df041d628",
        "colab": {
          "base_uri": "https://localhost:8080/",
          "height": 0
        }
      },
      "source": [
        "x = torch.tensor([5.5, 3])\n",
        "print(x)"
      ],
      "execution_count": 6,
      "outputs": [
        {
          "output_type": "stream",
          "text": [
            "tensor([5.5000, 3.0000])\n"
          ],
          "name": "stdout"
        }
      ]
    },
    {
      "cell_type": "markdown",
      "metadata": {
        "id": "4y4o8fc57H9_",
        "colab_type": "text"
      },
      "source": [
        "または、既存のテンソルの構成に基づいてテンソルをつくることもできる。\n",
        "\n"
      ]
    },
    {
      "cell_type": "code",
      "metadata": {
        "id": "tIQNcaLd7H-C",
        "colab_type": "code",
        "outputId": "ebea6c1f-8170-41ad-8cbe-3e1530140b74",
        "colab": {
          "base_uri": "https://localhost:8080/",
          "height": 0
        }
      },
      "source": [
        "x = x.new_ones(5, 3, dtype=torch.double)      # new_* methods take in sizes\n",
        "print(x)\n",
        "\n",
        "x = torch.randn_like(x, dtype=torch.float)    # override dtype!\n",
        "print(x)                                      # result has the same size"
      ],
      "execution_count": 7,
      "outputs": [
        {
          "output_type": "stream",
          "text": [
            "tensor([[1., 1., 1.],\n",
            "        [1., 1., 1.],\n",
            "        [1., 1., 1.],\n",
            "        [1., 1., 1.],\n",
            "        [1., 1., 1.]], dtype=torch.float64)\n",
            "tensor([[-0.3178, -1.5382,  1.3721],\n",
            "        [ 1.0961,  1.2096, -0.8773],\n",
            "        [-1.1012,  1.3569,  0.7226],\n",
            "        [ 0.4846, -0.5752, -0.7836],\n",
            "        [ 1.1172, -0.0717,  0.7485]])\n"
          ],
          "name": "stdout"
        }
      ]
    },
    {
      "cell_type": "markdown",
      "metadata": {
        "id": "Ok7HVbTW7H-F",
        "colab_type": "text"
      },
      "source": [
        "大きさを確認する。（タプルで返される。）\n",
        "\n"
      ]
    },
    {
      "cell_type": "code",
      "metadata": {
        "id": "A7uWIlho7H-G",
        "colab_type": "code",
        "outputId": "5c8ecd30-d869-485a-ee5d-209e97edd241",
        "colab": {
          "base_uri": "https://localhost:8080/",
          "height": 0
        }
      },
      "source": [
        "print(x.size())"
      ],
      "execution_count": 8,
      "outputs": [
        {
          "output_type": "stream",
          "text": [
            "torch.Size([5, 3])\n"
          ],
          "name": "stdout"
        }
      ]
    },
    {
      "cell_type": "markdown",
      "metadata": {
        "id": "ZvzBu1S_7H-I",
        "colab_type": "text"
      },
      "source": [
        "### 演算\n",
        "\n",
        "いろんな記法がある。\n",
        "\n",
        "加算１\n",
        "\n"
      ]
    },
    {
      "cell_type": "code",
      "metadata": {
        "id": "khuamFPW7H-J",
        "colab_type": "code",
        "outputId": "793e0c46-c847-4e27-f05a-7799e88ac59b",
        "colab": {
          "base_uri": "https://localhost:8080/",
          "height": 0
        }
      },
      "source": [
        "y = torch.rand(5, 3)\n",
        "print(x + y)"
      ],
      "execution_count": 9,
      "outputs": [
        {
          "output_type": "stream",
          "text": [
            "tensor([[ 0.1579, -1.3089,  2.2271],\n",
            "        [ 1.1740,  1.7441, -0.7664],\n",
            "        [-1.0032,  2.3311,  1.4279],\n",
            "        [ 1.0814,  0.2319, -0.4127],\n",
            "        [ 1.7457,  0.8136,  1.0747]])\n"
          ],
          "name": "stdout"
        }
      ]
    },
    {
      "cell_type": "markdown",
      "metadata": {
        "id": "1X0-Fcov7H-M",
        "colab_type": "text"
      },
      "source": [
        "加算２\n",
        "\n"
      ]
    },
    {
      "cell_type": "code",
      "metadata": {
        "id": "Dvg1Sseo7H-M",
        "colab_type": "code",
        "outputId": "49852df1-619c-4198-8451-916d34f5251b",
        "colab": {
          "base_uri": "https://localhost:8080/",
          "height": 0
        }
      },
      "source": [
        "print(torch.add(x, y))"
      ],
      "execution_count": 10,
      "outputs": [
        {
          "output_type": "stream",
          "text": [
            "tensor([[ 0.1579, -1.3089,  2.2271],\n",
            "        [ 1.1740,  1.7441, -0.7664],\n",
            "        [-1.0032,  2.3311,  1.4279],\n",
            "        [ 1.0814,  0.2319, -0.4127],\n",
            "        [ 1.7457,  0.8136,  1.0747]])\n"
          ],
          "name": "stdout"
        }
      ]
    },
    {
      "cell_type": "markdown",
      "metadata": {
        "id": "iHfBFoE17H-P",
        "colab_type": "text"
      },
      "source": [
        "加算３\n",
        "\n"
      ]
    },
    {
      "cell_type": "code",
      "metadata": {
        "id": "hAji_1Qb7H-Q",
        "colab_type": "code",
        "outputId": "11f3de36-2cfc-4d8a-fd25-b71e5c025c1e",
        "colab": {
          "base_uri": "https://localhost:8080/",
          "height": 0
        }
      },
      "source": [
        "result = torch.empty(5, 3)\n",
        "torch.add(x, y, out=result)\n",
        "print(result)"
      ],
      "execution_count": 11,
      "outputs": [
        {
          "output_type": "stream",
          "text": [
            "tensor([[ 0.1579, -1.3089,  2.2271],\n",
            "        [ 1.1740,  1.7441, -0.7664],\n",
            "        [-1.0032,  2.3311,  1.4279],\n",
            "        [ 1.0814,  0.2319, -0.4127],\n",
            "        [ 1.7457,  0.8136,  1.0747]])\n"
          ],
          "name": "stdout"
        }
      ]
    },
    {
      "cell_type": "markdown",
      "metadata": {
        "id": "0mQSrIyQ7H-U",
        "colab_type": "text"
      },
      "source": [
        "加算４\n",
        "\n"
      ]
    },
    {
      "cell_type": "code",
      "metadata": {
        "id": "0304h0XL7H-V",
        "colab_type": "code",
        "outputId": "127ef79e-8a5a-4c07-f1bc-bcead23065e4",
        "colab": {
          "base_uri": "https://localhost:8080/",
          "height": 0
        }
      },
      "source": [
        "# adds x to y\n",
        "y.add_(x)\n",
        "print(y)"
      ],
      "execution_count": 12,
      "outputs": [
        {
          "output_type": "stream",
          "text": [
            "tensor([[ 0.1579, -1.3089,  2.2271],\n",
            "        [ 1.1740,  1.7441, -0.7664],\n",
            "        [-1.0032,  2.3311,  1.4279],\n",
            "        [ 1.0814,  0.2319, -0.4127],\n",
            "        [ 1.7457,  0.8136,  1.0747]])\n"
          ],
          "name": "stdout"
        }
      ]
    },
    {
      "cell_type": "markdown",
      "metadata": {
        "id": "xOZRIk8M7H-Y",
        "colab_type": "text"
      },
      "source": [
        "> Numpy みたいにインデックスが使える。\n",
        "\n"
      ]
    },
    {
      "cell_type": "code",
      "metadata": {
        "id": "NnrIlLW17H-Y",
        "colab_type": "code",
        "outputId": "d818d109-283d-4b3d-977d-95122abc0196",
        "colab": {
          "base_uri": "https://localhost:8080/",
          "height": 0
        }
      },
      "source": [
        "print(x[:, 1])"
      ],
      "execution_count": 13,
      "outputs": [
        {
          "output_type": "stream",
          "text": [
            "tensor([-1.5382,  1.2096,  1.3569, -0.5752, -0.0717])\n"
          ],
          "name": "stdout"
        }
      ]
    },
    {
      "cell_type": "markdown",
      "metadata": {
        "id": "8FNMEdjd7H-b",
        "colab_type": "text"
      },
      "source": [
        "大きさ変更（Reshape）\n",
        "\n"
      ]
    },
    {
      "cell_type": "code",
      "metadata": {
        "id": "2F08lqbg7H-c",
        "colab_type": "code",
        "outputId": "ec1c47ad-2fa7-4fe8-dd55-dda29050f937",
        "colab": {
          "base_uri": "https://localhost:8080/",
          "height": 0
        }
      },
      "source": [
        "x = torch.randn(4, 4)\n",
        "y = x.view(16)\n",
        "z = x.view(-1, 8)  # the size -1 is inferred from other dimensions\n",
        "print(x.size(), y.size(), z.size())"
      ],
      "execution_count": 14,
      "outputs": [
        {
          "output_type": "stream",
          "text": [
            "torch.Size([4, 4]) torch.Size([16]) torch.Size([2, 8])\n"
          ],
          "name": "stdout"
        }
      ]
    },
    {
      "cell_type": "markdown",
      "metadata": {
        "id": "N37oNUk87H-f",
        "colab_type": "text"
      },
      "source": [
        "要素１つを取り出す。\n",
        "\n"
      ]
    },
    {
      "cell_type": "code",
      "metadata": {
        "id": "lEzLIOtW7H-f",
        "colab_type": "code",
        "outputId": "069aa666-da89-41db-ffa8-95119f2a1cf6",
        "colab": {
          "base_uri": "https://localhost:8080/",
          "height": 0
        }
      },
      "source": [
        "x = torch.randn(1)\n",
        "print(x)\n",
        "print(x.item())"
      ],
      "execution_count": 15,
      "outputs": [
        {
          "output_type": "stream",
          "text": [
            "tensor([-0.1450])\n",
            "-0.1449655294418335\n"
          ],
          "name": "stdout"
        }
      ]
    },
    {
      "cell_type": "markdown",
      "metadata": {
        "id": "NfvPsDY47H-j",
        "colab_type": "text"
      },
      "source": [
        "他の操作は http://pytorch.org/docs/torch に詳しく載っている。\n",
        "\n",
        "## NumPy Bridge\n",
        "\n",
        "Torch Tensor と NumPy array の変換は簡単にできます。\n",
        "\n",
        "**Tensor -> Ndarray**\n",
        "\n"
      ]
    },
    {
      "cell_type": "code",
      "metadata": {
        "id": "MtrdTqob7H-k",
        "colab_type": "code",
        "outputId": "489e5f98-0ea6-4e07-8fc9-7b0313786eba",
        "colab": {
          "base_uri": "https://localhost:8080/",
          "height": 0
        }
      },
      "source": [
        "a = torch.ones(5)\n",
        "print(a)"
      ],
      "execution_count": 16,
      "outputs": [
        {
          "output_type": "stream",
          "text": [
            "tensor([1., 1., 1., 1., 1.])\n"
          ],
          "name": "stdout"
        }
      ]
    },
    {
      "cell_type": "code",
      "metadata": {
        "id": "8_jJPk6M7H-s",
        "colab_type": "code",
        "outputId": "1ab2c352-2b29-4434-b006-9c72a26b5433",
        "colab": {
          "base_uri": "https://localhost:8080/",
          "height": 0
        }
      },
      "source": [
        "b = a.numpy()\n",
        "print(b)"
      ],
      "execution_count": 17,
      "outputs": [
        {
          "output_type": "stream",
          "text": [
            "[1. 1. 1. 1. 1.]\n"
          ],
          "name": "stdout"
        }
      ]
    },
    {
      "cell_type": "markdown",
      "metadata": {
        "id": "CJVcbRBM7H-y",
        "colab_type": "text"
      },
      "source": [
        "numpy array の値の変化を確認する。（参照先も変化する）"
      ]
    },
    {
      "cell_type": "code",
      "metadata": {
        "id": "DgAofe447H-0",
        "colab_type": "code",
        "outputId": "1daf399e-5058-4c07-9446-eb203568571c",
        "colab": {
          "base_uri": "https://localhost:8080/",
          "height": 0
        }
      },
      "source": [
        "a.add_(1)\n",
        "print(a)\n",
        "print(b)"
      ],
      "execution_count": 18,
      "outputs": [
        {
          "output_type": "stream",
          "text": [
            "tensor([2., 2., 2., 2., 2.])\n",
            "[2. 2. 2. 2. 2.]\n"
          ],
          "name": "stdout"
        }
      ]
    },
    {
      "cell_type": "markdown",
      "metadata": {
        "id": "fKmIO2NJ7H-3",
        "colab_type": "text"
      },
      "source": [
        "**Ndarray -> Tensor**\n",
        "\n"
      ]
    },
    {
      "cell_type": "code",
      "metadata": {
        "id": "xdn8uWxi7H-4",
        "colab_type": "code",
        "outputId": "5c298497-18fc-4939-9198-d659125622df",
        "colab": {
          "base_uri": "https://localhost:8080/",
          "height": 0
        }
      },
      "source": [
        "import numpy as np\n",
        "a = np.ones(5)\n",
        "b = torch.from_numpy(a)\n",
        "np.add(a, 1, out=a)\n",
        "print(a)\n",
        "print(b)"
      ],
      "execution_count": 19,
      "outputs": [
        {
          "output_type": "stream",
          "text": [
            "[2. 2. 2. 2. 2.]\n",
            "tensor([2., 2., 2., 2., 2.], dtype=torch.float64)\n"
          ],
          "name": "stdout"
        }
      ]
    },
    {
      "cell_type": "markdown",
      "metadata": {
        "id": "j3JFvyfL7H-6",
        "colab_type": "text"
      },
      "source": [
        "CharTensorを除くCPU上のTensorは、NumPyへの変換と逆変換ができる。\n",
        "\n",
        "\n"
      ]
    },
    {
      "cell_type": "markdown",
      "metadata": {
        "id": "joauRdBeAJXI",
        "colab_type": "text"
      },
      "source": [
        "## CUDA Tensors\n",
        "\n",
        "\n",
        "``.to`` method でデバイス間の移動ができる。"
      ]
    },
    {
      "cell_type": "code",
      "metadata": {
        "id": "ji4wJ4VT7H-7",
        "colab_type": "code",
        "outputId": "6b5e843b-04a9-497d-b72c-ca97b9c29088",
        "colab": {
          "base_uri": "https://localhost:8080/",
          "height": 0
        }
      },
      "source": [
        "# let us run this cell only if CUDA is available\n",
        "# We will use ``torch.device`` objects to move tensors in and out of GPU\n",
        "if torch.cuda.is_available():\n",
        "    device = torch.device(\"cuda\")          # a CUDA device object\n",
        "    y = torch.ones_like(x, device=device)  # directly create a tensor on GPU\n",
        "    x = x.to(device)                       # or just use strings ``.to(\"cuda\")``\n",
        "    z = x + y\n",
        "    print(z)\n",
        "    print(z.to(\"cpu\", torch.double))       # ``.to`` can also change dtype together!"
      ],
      "execution_count": 20,
      "outputs": [
        {
          "output_type": "stream",
          "text": [
            "tensor([0.8550], device='cuda:0')\n",
            "tensor([0.8550], dtype=torch.float64)\n"
          ],
          "name": "stdout"
        }
      ]
    },
    {
      "cell_type": "markdown",
      "metadata": {
        "id": "CKQaFs0pAw1Z",
        "colab_type": "text"
      },
      "source": [
        "\n",
        "2.Autograd: Automatic Differentiation\n",
        "===================================\n",
        "\n",
        "PyTorchのすべてのニューラルネットワークの中心は、``autograd`` package である。\n",
        "\n",
        "**テンソルに関数を適用して、順方向に計算し、関数の情報から逆方向も簡単に計算できる。**\n"
      ]
    },
    {
      "cell_type": "markdown",
      "metadata": {
        "id": "WgDPzjeSBYwd",
        "colab_type": "text"
      },
      "source": [
        "## Tensor\n",
        "\n",
        "``torch.Tensor`` が中心のクラス。``.requires_grad`` を ``True`` にすれば全ての操作ができる。\n",
        "\n",
        "すべての計算が終わったら、``.backward()`` で自動的に勾配が計算され、``.grad`` attributeに蓄積される。\n",
        "\n",
        "``.detach()`` で履歴の追跡を止めらることができる。また、``with torch.no_grad():``というブロック内でも追跡を止められる。例えば、モデルの評価などに有用である。\n",
        "\n",
        "\n",
        "もう一つ重要なクラスに ``Function`` がある。``Tensor`` と ``Function`` は相互に接続され、非循環グラフを構成し、計算履歴を表現する。``.grad_fn`` attribute は``Tensor``を作成した``Function`` を参照する。\n"
      ]
    },
    {
      "cell_type": "code",
      "metadata": {
        "id": "xzIAEEZJAw1b",
        "colab_type": "code",
        "colab": {}
      },
      "source": [
        "import torch"
      ],
      "execution_count": 0,
      "outputs": []
    },
    {
      "cell_type": "markdown",
      "metadata": {
        "id": "LUkn3b9uAw1f",
        "colab_type": "text"
      },
      "source": [
        "テンソルをつくり、requires_grad = Trueとして、計算を追跡する。\n",
        "\n"
      ]
    },
    {
      "cell_type": "code",
      "metadata": {
        "id": "sNg4sYUMAw1g",
        "colab_type": "code",
        "outputId": "98dbffb2-d288-4fc2-96a7-c1eb8f0fefa3",
        "colab": {
          "base_uri": "https://localhost:8080/",
          "height": 0
        }
      },
      "source": [
        "x = torch.ones(2, 2, requires_grad=True)\n",
        "print(x)"
      ],
      "execution_count": 22,
      "outputs": [
        {
          "output_type": "stream",
          "text": [
            "tensor([[1., 1.],\n",
            "        [1., 1.]], requires_grad=True)\n"
          ],
          "name": "stdout"
        }
      ]
    },
    {
      "cell_type": "code",
      "metadata": {
        "id": "sq6YeT2BAw1j",
        "colab_type": "code",
        "outputId": "594f7ad9-506c-4f77-e32b-d87011fcaf6d",
        "colab": {
          "base_uri": "https://localhost:8080/",
          "height": 0
        }
      },
      "source": [
        "y = x + 2\n",
        "print(y)"
      ],
      "execution_count": 23,
      "outputs": [
        {
          "output_type": "stream",
          "text": [
            "tensor([[3., 3.],\n",
            "        [3., 3.]], grad_fn=<AddBackward0>)\n"
          ],
          "name": "stdout"
        }
      ]
    },
    {
      "cell_type": "markdown",
      "metadata": {
        "id": "ChIQTlp4Aw1m",
        "colab_type": "text"
      },
      "source": [
        "``y`` は ``grad_fn`` attribute をもっている。\n",
        "\n"
      ]
    },
    {
      "cell_type": "code",
      "metadata": {
        "id": "GOb3759-Aw1n",
        "colab_type": "code",
        "outputId": "64679975-f166-4038-e4e9-ad70c19d6e90",
        "colab": {
          "base_uri": "https://localhost:8080/",
          "height": 0
        }
      },
      "source": [
        "print(y.grad_fn)"
      ],
      "execution_count": 24,
      "outputs": [
        {
          "output_type": "stream",
          "text": [
            "<AddBackward0 object at 0x7f9c370e79b0>\n"
          ],
          "name": "stdout"
        }
      ]
    },
    {
      "cell_type": "code",
      "metadata": {
        "id": "V5qmJNE0Aw1s",
        "colab_type": "code",
        "outputId": "d0290b59-9446-4ffa-cf32-dc5ad06c56bd",
        "colab": {
          "base_uri": "https://localhost:8080/",
          "height": 0
        }
      },
      "source": [
        "z = y * y * 3\n",
        "out = z.mean()\n",
        "\n",
        "print(z, out)"
      ],
      "execution_count": 25,
      "outputs": [
        {
          "output_type": "stream",
          "text": [
            "tensor([[27., 27.],\n",
            "        [27., 27.]], grad_fn=<MulBackward0>) tensor(27., grad_fn=<MeanBackward0>)\n"
          ],
          "name": "stdout"
        }
      ]
    },
    {
      "cell_type": "markdown",
      "metadata": {
        "id": "KV2jRbaXAw1w",
        "colab_type": "text"
      },
      "source": [
        "``.requires_grad_( ... )`` でも、requires_grad を変えられる。\n",
        "\n"
      ]
    },
    {
      "cell_type": "code",
      "metadata": {
        "id": "B2WPazVlAw1x",
        "colab_type": "code",
        "outputId": "4ce276c8-29a9-4742-ee3f-da054856b0a3",
        "colab": {
          "base_uri": "https://localhost:8080/",
          "height": 0
        }
      },
      "source": [
        "a = torch.randn(2, 2)\n",
        "a = ((a * 3) / (a - 1))\n",
        "print(a.requires_grad)\n",
        "a.requires_grad_(True)\n",
        "print(a.requires_grad)\n",
        "b = (a * a).sum()\n",
        "print(b.grad_fn)"
      ],
      "execution_count": 26,
      "outputs": [
        {
          "output_type": "stream",
          "text": [
            "False\n",
            "True\n",
            "<SumBackward0 object at 0x7f9c37074860>\n"
          ],
          "name": "stdout"
        }
      ]
    },
    {
      "cell_type": "markdown",
      "metadata": {
        "id": "3nbRAG32Aw10",
        "colab_type": "text"
      },
      "source": [
        "Gradients\n",
        "---------\n",
        "backprop をしよう。\n",
        "\n",
        "\n"
      ]
    },
    {
      "cell_type": "code",
      "metadata": {
        "id": "DH21fVkKAw11",
        "colab_type": "code",
        "colab": {}
      },
      "source": [
        "out.backward()"
      ],
      "execution_count": 0,
      "outputs": []
    },
    {
      "cell_type": "markdown",
      "metadata": {
        "id": "6mMsvnN2Aw13",
        "colab_type": "text"
      },
      "source": [
        "$\\frac{d(out)}{dx}$を確認する。\n",
        "\n",
        "\n"
      ]
    },
    {
      "cell_type": "code",
      "metadata": {
        "id": "TGuwvCPAAw15",
        "colab_type": "code",
        "outputId": "5019e1a9-dcaf-4137-cd2f-e65b2a9d5b63",
        "colab": {
          "base_uri": "https://localhost:8080/",
          "height": 0
        }
      },
      "source": [
        "print(x.grad)"
      ],
      "execution_count": 28,
      "outputs": [
        {
          "output_type": "stream",
          "text": [
            "tensor([[4.5000, 4.5000],\n",
            "        [4.5000, 4.5000]])\n"
          ],
          "name": "stdout"
        }
      ]
    },
    {
      "cell_type": "markdown",
      "metadata": {
        "id": "-SISuuMVAw19",
        "colab_type": "text"
      },
      "source": [
        ">これは、以下のようになっている。  \n",
        "$o = \\frac{1}{4}\\sum_i z_i$　( ただし、$z_i = 3(x_i+2)^2$ であり、 $z_i\\bigr\\rvert_{x_i=1} = 27$ )  \n",
        "したがって、\n",
        "$\\frac{\\partial o}{\\partial x_i} = \\frac{3}{2}(x_i+2)$ となるので、 $\\frac{\\partial o}{\\partial x_i}\\bigr\\rvert_{x_i=1} = \\frac{9}{2} = 4.5$\n",
        "\n"
      ]
    },
    {
      "cell_type": "markdown",
      "metadata": {
        "id": "4bUG1AOEAw1-",
        "colab_type": "text"
      },
      "source": [
        "**autograd でいろいろなことができる！**\n",
        "\n"
      ]
    },
    {
      "cell_type": "code",
      "metadata": {
        "id": "oG_HqHPFAw1_",
        "colab_type": "code",
        "outputId": "f56f3367-045e-4315-e8aa-73d34db15cc8",
        "colab": {
          "base_uri": "https://localhost:8080/",
          "height": 0
        }
      },
      "source": [
        "x = torch.randn(3, requires_grad=True)\n",
        "\n",
        "y = x * 2\n",
        "while y.data.norm() < 1000:\n",
        "    y = y * 2\n",
        "\n",
        "print(y)"
      ],
      "execution_count": 29,
      "outputs": [
        {
          "output_type": "stream",
          "text": [
            "tensor([-1105.6422,   666.9278,  -761.4797], grad_fn=<MulBackward0>)\n"
          ],
          "name": "stdout"
        }
      ]
    },
    {
      "cell_type": "code",
      "metadata": {
        "id": "E5n7UtWcAw2C",
        "colab_type": "code",
        "outputId": "7585dfee-277c-4b3b-f5a4-0f4aa664cad9",
        "colab": {
          "base_uri": "https://localhost:8080/",
          "height": 0
        }
      },
      "source": [
        "gradients = torch.tensor([0.1, 1.0, 0.0001], dtype=torch.float)\n",
        "y.backward(gradients)\n",
        "\n",
        "print(x.grad)"
      ],
      "execution_count": 30,
      "outputs": [
        {
          "output_type": "stream",
          "text": [
            "tensor([1.0240e+02, 1.0240e+03, 1.0240e-01])\n"
          ],
          "name": "stdout"
        }
      ]
    },
    {
      "cell_type": "markdown",
      "metadata": {
        "id": "Am9wciXUAw2F",
        "colab_type": "text"
      },
      "source": [
        "``with torch.no_grad()``: を使って追跡を止める。\n",
        "\n"
      ]
    },
    {
      "cell_type": "code",
      "metadata": {
        "id": "wkrfEHmuAw2H",
        "colab_type": "code",
        "outputId": "b9f1e1a7-a4f7-4ae3-e84e-1424eaea9673",
        "colab": {
          "base_uri": "https://localhost:8080/",
          "height": 0
        }
      },
      "source": [
        "print(x.requires_grad)\n",
        "print((x ** 2).requires_grad)\n",
        "\n",
        "with torch.no_grad():\n",
        "\tprint((x ** 2).requires_grad)"
      ],
      "execution_count": 31,
      "outputs": [
        {
          "output_type": "stream",
          "text": [
            "True\n",
            "True\n",
            "False\n"
          ],
          "name": "stdout"
        }
      ]
    },
    {
      "cell_type": "markdown",
      "metadata": {
        "id": "xZr0usKWAw2J",
        "colab_type": "text"
      },
      "source": [
        "``autograd`` と ``Function`` の詳細は、http://pytorch.org/docs/autograd\n",
        "\n"
      ]
    },
    {
      "cell_type": "markdown",
      "metadata": {
        "id": "QyFUtlP0IllI",
        "colab_type": "text"
      },
      "source": [
        "3.Neural Networks\n",
        "===================================\n",
        "\n",
        "ニューラルネットワークは``torch.nn`` package で構築できる。\n",
        "\n",
        "``nn`` は ``autograd`` に依存してモデルを定義する。``nn.Module`` には、``layers`` と ``forward(input)`` が含まれている。\n",
        "\n"
      ]
    },
    {
      "cell_type": "markdown",
      "metadata": {
        "id": "TXCJhSwSKk7o",
        "colab_type": "text"
      },
      "source": [
        "## Define the network\n",
        "\n",
        "数字の分類モデルである\"convnet\"を扱う。単純なネットワークで、入力を受け取り、いくつかの層を次々に通過させ、最終結果を出力する。\n",
        "\n",
        "![代替テキスト](https://pytorch.org/tutorials/_images/mnist.png)\n",
        "\n",
        "ニューラルネットワークの典型的なトレーニング方法:\n",
        "\n",
        "- 学習可能なパラメーター（または重み）を持つニューラルネットワークを定義する\n",
        "- 入力のデータセットを反復処理する\n",
        "- ネットワークを介した入力の処理\n",
        "- 損失を計算する（出力が正解からどれくらい離れているか）\n",
        "- 勾配をネットワークのパラメーターに伝播させる\n",
        "- 更新ルールを使用して、ネットワークの重みを更新する:\n",
        "  ``weight = weight - learning_rate * gradient``"
      ]
    },
    {
      "cell_type": "code",
      "metadata": {
        "id": "fi-XcrIrIllJ",
        "colab_type": "code",
        "outputId": "9f999700-ab4c-40cd-b54c-334bb008a837",
        "colab": {
          "base_uri": "https://localhost:8080/",
          "height": 0
        }
      },
      "source": [
        "import torch\n",
        "import torch.nn as nn\n",
        "import torch.nn.functional as F\n",
        "\n",
        "\n",
        "class Net(nn.Module):\n",
        "\n",
        "    def __init__(self):\n",
        "        super(Net, self).__init__()\n",
        "        # 1 input image channel, 6 output channels, 5x5 square convolution\n",
        "        # kernel\n",
        "        self.conv1 = nn.Conv2d(1, 6, 5)\n",
        "        self.conv2 = nn.Conv2d(6, 16, 5)\n",
        "        # an affine operation: y = Wx + b\n",
        "        self.fc1 = nn.Linear(16 * 5 * 5, 120)\n",
        "        self.fc2 = nn.Linear(120, 84)\n",
        "        self.fc3 = nn.Linear(84, 10)\n",
        "\n",
        "    def forward(self, x):\n",
        "        # Max pooling over a (2, 2) window\n",
        "        x = F.max_pool2d(F.relu(self.conv1(x)), (2, 2))\n",
        "        # If the size is a square you can only specify a single number\n",
        "        x = F.max_pool2d(F.relu(self.conv2(x)), 2)\n",
        "        x = x.view(-1, self.num_flat_features(x))\n",
        "        x = F.relu(self.fc1(x))\n",
        "        x = F.relu(self.fc2(x))\n",
        "        x = self.fc3(x)\n",
        "        return x\n",
        "\n",
        "    def num_flat_features(self, x):\n",
        "        size = x.size()[1:]  # all dimensions except the batch dimension\n",
        "        num_features = 1\n",
        "        for s in size:\n",
        "            num_features *= s\n",
        "        return num_features\n",
        "\n",
        "\n",
        "net = Net()\n",
        "print(net)"
      ],
      "execution_count": 32,
      "outputs": [
        {
          "output_type": "stream",
          "text": [
            "Net(\n",
            "  (conv1): Conv2d(1, 6, kernel_size=(5, 5), stride=(1, 1))\n",
            "  (conv2): Conv2d(6, 16, kernel_size=(5, 5), stride=(1, 1))\n",
            "  (fc1): Linear(in_features=400, out_features=120, bias=True)\n",
            "  (fc2): Linear(in_features=120, out_features=84, bias=True)\n",
            "  (fc3): Linear(in_features=84, out_features=10, bias=True)\n",
            ")\n"
          ],
          "name": "stdout"
        }
      ]
    },
    {
      "cell_type": "markdown",
      "metadata": {
        "id": "CBSLQCzWIllM",
        "colab_type": "text"
      },
      "source": [
        "``forward``関数を定義するだけで、``autograd``を使用して``backward``関数が自動的に定義される！\n",
        "\n",
        "モデルの学習可能なパラメーターは、``net.parameters()``によって返されまする。\n",
        "\n"
      ]
    },
    {
      "cell_type": "code",
      "metadata": {
        "id": "zNf4MNoXIllN",
        "colab_type": "code",
        "colab": {
          "base_uri": "https://localhost:8080/",
          "height": 0
        },
        "outputId": "d0c3bd00-4f85-4575-e312-5929228d3576"
      },
      "source": [
        "params = list(net.parameters())\n",
        "print(len(params))\n",
        "print(params[0].size())  # conv1's .weight"
      ],
      "execution_count": 33,
      "outputs": [
        {
          "output_type": "stream",
          "text": [
            "10\n",
            "torch.Size([6, 1, 5, 5])\n"
          ],
          "name": "stdout"
        }
      ]
    },
    {
      "cell_type": "markdown",
      "metadata": {
        "id": "d7semP4eIllR",
        "colab_type": "text"
      },
      "source": [
        "ランダムな32x32の入力を試してみる。\n",
        "\n",
        ">このネット（LeNet）への入力サイズは32x32です。 MNISTデータセットでこのネットを使用するには、データセットの画像のサイズを32x32に変更してください。\n",
        "\n"
      ]
    },
    {
      "cell_type": "code",
      "metadata": {
        "id": "oqBH0owLIllR",
        "colab_type": "code",
        "outputId": "895ae08c-58c4-4776-91e7-8595079777bd",
        "colab": {
          "base_uri": "https://localhost:8080/",
          "height": 0
        }
      },
      "source": [
        "input = torch.randn(1, 1, 32, 32)\n",
        "out = net(input)\n",
        "print(out)"
      ],
      "execution_count": 34,
      "outputs": [
        {
          "output_type": "stream",
          "text": [
            "tensor([[ 0.1111, -0.0828,  0.0147,  0.0681,  0.0309,  0.0557, -0.0493,  0.0419,\n",
            "         -0.0276,  0.0368]], grad_fn=<AddmmBackward>)\n"
          ],
          "name": "stdout"
        }
      ]
    },
    {
      "cell_type": "markdown",
      "metadata": {
        "id": "-3pmXNcuIllW",
        "colab_type": "text"
      },
      "source": [
        "すべてのパラメーターの勾配バッファーと、ランダムな勾配を持つバックプロップをゼロにする。\n",
        "\n"
      ]
    },
    {
      "cell_type": "code",
      "metadata": {
        "id": "rEvCwGYnIllX",
        "colab_type": "code",
        "colab": {}
      },
      "source": [
        "net.zero_grad()\n",
        "out.backward(torch.randn(1, 10))"
      ],
      "execution_count": 0,
      "outputs": []
    },
    {
      "cell_type": "markdown",
      "metadata": {
        "id": "27F3lf9qIllc",
        "colab_type": "text"
      },
      "source": [
        "#### Note\n",
        "\n",
        "``torch.nn`` only supports mini-batches. The entire ``torch.nn``\n",
        "    package only supports inputs that are a mini-batch of samples, and not\n",
        "    a single sample.\n",
        "\n",
        "    For example, ``nn.Conv2d`` will take in a 4D Tensor of\n",
        "    ``nSamples x nChannels x Height x Width``.\n",
        "\n",
        "    If you have a single sample, just use ``input.unsqueeze(0)`` to add\n",
        "    a fake batch dimension.</p></div>\n",
        "\n",
        "Before proceeding further, let's recap all the classes you’ve seen so far.\n",
        "\n",
        "**Recap:**\n",
        "  -  ``torch.Tensor`` - A *multi-dimensional array* with support for autograd\n",
        "     operations like ``backward()``. Also *holds the gradient* w.r.t. the\n",
        "     tensor.\n",
        "  -  ``nn.Module`` - Neural network module. *Convenient way of\n",
        "     encapsulating parameters*, with helpers for moving them to GPU,\n",
        "     exporting, loading, etc.\n",
        "  -  ``nn.Parameter`` - A kind of Tensor, that is *automatically\n",
        "     registered as a parameter when assigned as an attribute to a*\n",
        "     ``Module``.\n",
        "  -  ``autograd.Function`` - Implements *forward and backward definitions\n",
        "     of an autograd operation*. Every ``Tensor`` operation, creates at\n",
        "     least a single ``Function`` node, that connects to functions that\n",
        "     created a ``Tensor`` and *encodes its history*.\n",
        "\n",
        "**At this point, we covered:**\n",
        "  -  Defining a neural network\n",
        "  -  Processing inputs and calling backward\n",
        "\n",
        "**Still Left:**\n",
        "  -  Computing the loss\n",
        "  -  Updating the weights of the network\n",
        "\n",
        "\n",
        "\n"
      ]
    },
    {
      "cell_type": "markdown",
      "metadata": {
        "id": "YHW6v_owMA_r",
        "colab_type": "text"
      },
      "source": [
        "## Loss Function\n",
        "\n",
        "---\n",
        "\n",
        "損失関数は入力に対する（出力、ターゲット）のペアを受け取り、出力がターゲットからどれだけ離れているかを推定する値を計算する。 \n",
        "\n",
        "nnパッケージには、損失関数 （ http://pytorch.org/docs/nn.html#loss-functions ） がいくつかある。"
      ]
    },
    {
      "cell_type": "code",
      "metadata": {
        "id": "WDiCqTPWIlld",
        "colab_type": "code",
        "outputId": "c6b3c5d0-bcd9-498f-c3cb-f0bd825274d7",
        "colab": {
          "base_uri": "https://localhost:8080/",
          "height": 0
        }
      },
      "source": [
        "output = net(input)\n",
        "target = torch.randn(10)  # a dummy target, for example\n",
        "target = target.view(1, -1)  # make it the same shape as output\n",
        "criterion = nn.MSELoss()\n",
        "\n",
        "loss = criterion(output, target)\n",
        "print(loss)"
      ],
      "execution_count": 36,
      "outputs": [
        {
          "output_type": "stream",
          "text": [
            "tensor(0.9314, grad_fn=<MseLossBackward>)\n"
          ],
          "name": "stdout"
        }
      ]
    },
    {
      "cell_type": "markdown",
      "metadata": {
        "id": "0zZq0J0LIllg",
        "colab_type": "text"
      },
      "source": [
        "これで、``.grad_fn`` を使用して逆方向の損失を追跡すると、次のような計算のグラフが表示される。 \n",
        "\n",
        "    input -> conv2d -> relu -> maxpool2d -> conv2d -> relu -> maxpool2d\n",
        "          -> view -> linear -> relu -> linear -> relu -> linear\n",
        "          -> MSELoss\n",
        "          -> loss\n",
        "\n",
        "\n"
      ]
    },
    {
      "cell_type": "code",
      "metadata": {
        "id": "I4UDHwl7Illh",
        "colab_type": "code",
        "outputId": "506a0679-a734-43c0-90c0-90ffc9cb318a",
        "colab": {
          "base_uri": "https://localhost:8080/",
          "height": 0
        }
      },
      "source": [
        "print(loss.grad_fn)  # MSELoss\n",
        "print(loss.grad_fn.next_functions[0][0])  # Linear\n",
        "print(loss.grad_fn.next_functions[0][0].next_functions[0][0])  # ReLU"
      ],
      "execution_count": 37,
      "outputs": [
        {
          "output_type": "stream",
          "text": [
            "<MseLossBackward object at 0x7f9c37074b70>\n",
            "<AddmmBackward object at 0x7f9c37074ba8>\n",
            "<AccumulateGrad object at 0x7f9c37074b70>\n"
          ],
          "name": "stdout"
        }
      ]
    },
    {
      "cell_type": "markdown",
      "metadata": {
        "id": "7ahBaw2FIllo",
        "colab_type": "text"
      },
      "source": [
        "## Backprop\n",
        "--------\n",
        "\n",
        "誤差を逆伝播するためには、``loss.backward()``を実行するだけでよい。（ただし、既存の勾配を消去する必要はある。）\n",
        "\n",
        "\n"
      ]
    },
    {
      "cell_type": "code",
      "metadata": {
        "id": "SU9UKMk7Illp",
        "colab_type": "code",
        "outputId": "712f8074-dc00-401f-a1d1-e80df174321a",
        "colab": {
          "base_uri": "https://localhost:8080/",
          "height": 0
        }
      },
      "source": [
        "net.zero_grad()     # zeroes the gradient buffers of all parameters\n",
        "\n",
        "print('conv1.bias.grad before backward')\n",
        "print(net.conv1.bias.grad)\n",
        "\n",
        "loss.backward()\n",
        "\n",
        "print('conv1.bias.grad after backward')\n",
        "print(net.conv1.bias.grad)"
      ],
      "execution_count": 38,
      "outputs": [
        {
          "output_type": "stream",
          "text": [
            "conv1.bias.grad before backward\n",
            "tensor([0., 0., 0., 0., 0., 0.])\n",
            "conv1.bias.grad after backward\n",
            "tensor([ 0.0029, -0.0126, -0.0023,  0.0076,  0.0043, -0.0052])\n"
          ],
          "name": "stdout"
        }
      ]
    },
    {
      "cell_type": "markdown",
      "metadata": {
        "id": "DT-jIU10Illt",
        "colab_type": "text"
      },
      "source": [
        "nn モジュールの詳細は、 http://pytorch.org/docs/nn\n",
        "\n",
        "\n"
      ]
    },
    {
      "cell_type": "markdown",
      "metadata": {
        "id": "cclAusR-bhrq",
        "colab_type": "text"
      },
      "source": [
        "## Update the weights\n",
        "------------------\n",
        "実際に使用される最も単純な更新ルール = **確率的勾配降下法**\n",
        "\n",
        "     ``weight = weight - learning_rate * gradient``\n",
        "\n",
        "これは、単純なコードで実装できる。\n",
        "\n",
        "~~~python\n",
        "learning_rate = 0.01\n",
        "for f in net.parameters():\n",
        "    f.data.sub_(f.grad.data * learning_rate)\n",
        "~~~\n",
        "\n",
        "だが、様々な更新ルールは ``torch.optim`` で簡単に実装できるようになっている。"
      ]
    },
    {
      "cell_type": "code",
      "metadata": {
        "id": "QDmG75qVIllu",
        "colab_type": "code",
        "colab": {}
      },
      "source": [
        "import torch.optim as optim\n",
        "\n",
        "# create your optimizer\n",
        "optimizer = optim.SGD(net.parameters(), lr=0.01)\n",
        "\n",
        "# in your training loop:\n",
        "optimizer.zero_grad()   # zero the gradient buffers\n",
        "output = net(input)\n",
        "loss = criterion(output, target)\n",
        "loss.backward()\n",
        "optimizer.step()    # Does the update"
      ],
      "execution_count": 0,
      "outputs": []
    },
    {
      "cell_type": "markdown",
      "metadata": {
        "id": "L_ZktrRidlJk",
        "colab_type": "text"
      },
      "source": [
        "\n",
        "4.Training a Classifier\n",
        "=====================\n",
        "\n"
      ]
    },
    {
      "cell_type": "markdown",
      "metadata": {
        "id": "uBuZJOCyeAM7",
        "colab_type": "text"
      },
      "source": [
        "## What about data?\n",
        "----------------\n",
        "\n",
        "Python パッケージでデータを Numpy array に読み込んでから、``torch.*Tensor`` にすると良い。\n",
        "\n",
        "-  画像：Pillow, OpenCV\n",
        "-  音声：scipy, librosa\n",
        "-  テキスト：raw Python, Cython, NLTK, SpaCy\n",
        "\n",
        "画像の分野では、**pytorch** の ``torchvision`` が便利です。\n",
        "\n",
        "ここでは、CIFAR10データセットをつかう。\n",
        "\n",
        ">「飛行機」、「自動車」、「鳥」、「猫」、「鹿」、「犬」、「カエル」、「馬」、「船」、「トラック」のクラスがある。\n",
        "  画像のサイズは3x32x32（32x32ピクセルの3チャンネルカラー画像）。\n",
        "\n",
        "![代替テキスト](https://pytorch.org/tutorials/_images/cifar10.png)"
      ]
    },
    {
      "cell_type": "markdown",
      "metadata": {
        "id": "fjz_9I21eJFf",
        "colab_type": "text"
      },
      "source": [
        "\n",
        "## Training an image classifier\n",
        "----------------------------\n",
        "\n",
        "ステップ:\n",
        "\n",
        "1. Load and normalizing the CIFAR10 training and test datasets using\n",
        "   ``torchvision``\n",
        "2. Define a Convolution Neural Network\n",
        "3. Define a loss function\n",
        "4. Train the network on the training data\n",
        "5. Test the network on the test data\n"
      ]
    },
    {
      "cell_type": "markdown",
      "metadata": {
        "id": "PP6tqzT-gin1",
        "colab_type": "text"
      },
      "source": [
        "### (1) Loading and normalizing CIFAR10\n",
        "\n",
        "\n",
        "``torchvision`` で、CIFAR10を非常に簡単に読み込める。"
      ]
    },
    {
      "cell_type": "code",
      "metadata": {
        "id": "M9szONoWdlJk",
        "colab_type": "code",
        "colab": {}
      },
      "source": [
        "import torch\n",
        "import torchvision\n",
        "import torchvision.transforms as transforms"
      ],
      "execution_count": 0,
      "outputs": []
    },
    {
      "cell_type": "markdown",
      "metadata": {
        "id": "Pu7CqIySdlJm",
        "colab_type": "text"
      },
      "source": [
        "データセットは、範囲[0、1]のPILImage画像なので、正規化して[-1、1]のテンソルに変換する。\n",
        "\n"
      ]
    },
    {
      "cell_type": "code",
      "metadata": {
        "id": "zrdTVZFndlJn",
        "colab_type": "code",
        "colab": {
          "base_uri": "https://localhost:8080/",
          "height": 50
        },
        "outputId": "b642cf0e-1457-4014-a9c9-72b2414b0faf"
      },
      "source": [
        "transform = transforms.Compose(\n",
        "    [transforms.ToTensor(),\n",
        "     transforms.Normalize((0.5, 0.5, 0.5), (0.5, 0.5, 0.5))])\n",
        "\n",
        "trainset = torchvision.datasets.CIFAR10(root='./data', train=True,\n",
        "                                        download=True, transform=transform)\n",
        "trainloader = torch.utils.data.DataLoader(trainset, batch_size=4,\n",
        "                                          shuffle=True, num_workers=2)\n",
        "\n",
        "testset = torchvision.datasets.CIFAR10(root='./data', train=False,\n",
        "                                       download=True, transform=transform)\n",
        "testloader = torch.utils.data.DataLoader(testset, batch_size=4,\n",
        "                                         shuffle=False, num_workers=2)\n",
        "\n",
        "classes = ('plane', 'car', 'bird', 'cat',\n",
        "           'deer', 'dog', 'frog', 'horse', 'ship', 'truck')"
      ],
      "execution_count": 41,
      "outputs": [
        {
          "output_type": "stream",
          "text": [
            "Files already downloaded and verified\n",
            "Files already downloaded and verified\n"
          ],
          "name": "stdout"
        }
      ]
    },
    {
      "cell_type": "markdown",
      "metadata": {
        "id": "wa42bTXhdlJr",
        "colab_type": "text"
      },
      "source": [
        "トレーニング画像を確認しよう！\n",
        "\n"
      ]
    },
    {
      "cell_type": "code",
      "metadata": {
        "id": "MBMY85-IdlJr",
        "colab_type": "code",
        "colab": {
          "base_uri": "https://localhost:8080/",
          "height": 155
        },
        "outputId": "e5593ccd-e806-4c7a-fd2d-de0e37a8bb3d"
      },
      "source": [
        "import matplotlib.pyplot as plt\n",
        "import numpy as np\n",
        "\n",
        "# functions to show an image\n",
        "\n",
        "\n",
        "def imshow(img):\n",
        "    img = img / 2 + 0.5     # unnormalize\n",
        "    npimg = img.numpy()\n",
        "    plt.imshow(np.transpose(npimg, (1, 2, 0)))\n",
        "\n",
        "\n",
        "# get some random training images\n",
        "dataiter = iter(trainloader)\n",
        "images, labels = dataiter.next()\n",
        "\n",
        "# show images\n",
        "imshow(torchvision.utils.make_grid(images))\n",
        "# print labels\n",
        "print(' '.join('%5s' % classes[labels[j]] for j in range(4)))"
      ],
      "execution_count": 42,
      "outputs": [
        {
          "output_type": "stream",
          "text": [
            " ship  frog   cat   dog\n"
          ],
          "name": "stdout"
        },
        {
          "output_type": "display_data",
          "data": {
            "image/png": "[encoded data removed]",
            "text/plain": [
              "<Figure size 432x288 with 1 Axes>"
            ]
          },
          "metadata": {
            "tags": []
          }
        }
      ]
    },
    {
      "cell_type": "markdown",
      "metadata": {
        "id": "kDGvRbsZdlJt",
        "colab_type": "text"
      },
      "source": [
        "### (2) Define a Convolution Neural Network\n",
        "\n",
        "前に使ったニューラルネットを、3チャンネル画像用にする。\n",
        "\n"
      ]
    },
    {
      "cell_type": "code",
      "metadata": {
        "id": "dhLdFXSAdlJt",
        "colab_type": "code",
        "colab": {}
      },
      "source": [
        "import torch.nn as nn\n",
        "import torch.nn.functional as F\n",
        "\n",
        "\n",
        "class Net(nn.Module):\n",
        "    def __init__(self):\n",
        "        super(Net, self).__init__()\n",
        "        self.conv1 = nn.Conv2d(3, 6, 5)\n",
        "        self.pool = nn.MaxPool2d(2, 2)\n",
        "        self.conv2 = nn.Conv2d(6, 16, 5)\n",
        "        self.fc1 = nn.Linear(16 * 5 * 5, 120)\n",
        "        self.fc2 = nn.Linear(120, 84)\n",
        "        self.fc3 = nn.Linear(84, 10)\n",
        "\n",
        "    def forward(self, x):\n",
        "        x = self.pool(F.relu(self.conv1(x)))\n",
        "        x = self.pool(F.relu(self.conv2(x)))\n",
        "        x = x.view(-1, 16 * 5 * 5)\n",
        "        x = F.relu(self.fc1(x))\n",
        "        x = F.relu(self.fc2(x))\n",
        "        x = self.fc3(x)\n",
        "        return x\n",
        "\n",
        "\n",
        "net = Net()"
      ],
      "execution_count": 0,
      "outputs": []
    },
    {
      "cell_type": "markdown",
      "metadata": {
        "id": "PzvZ8gZVdlJv",
        "colab_type": "text"
      },
      "source": [
        "### (3) Define a Loss function and optimizer\n",
        "\n",
        "Classification Cross-Entropy loss と、 SGD with momentum を使う。\n",
        "\n"
      ]
    },
    {
      "cell_type": "code",
      "metadata": {
        "id": "2NI-tz0zdlJw",
        "colab_type": "code",
        "colab": {}
      },
      "source": [
        "import torch.optim as optim\n",
        "\n",
        "criterion = nn.CrossEntropyLoss()\n",
        "optimizer = optim.SGD(net.parameters(), lr=0.001, momentum=0.9)"
      ],
      "execution_count": 0,
      "outputs": []
    },
    {
      "cell_type": "markdown",
      "metadata": {
        "id": "eCEOgUZsdlJx",
        "colab_type": "text"
      },
      "source": [
        "### (4) Train the network\n",
        "\n",
        "イテレータを回してネットワークに入力し、最適化するだけ。\n",
        "\n"
      ]
    },
    {
      "cell_type": "code",
      "metadata": {
        "id": "CV3o_CgzdlJy",
        "colab_type": "code",
        "colab": {
          "base_uri": "https://localhost:8080/",
          "height": 270
        },
        "outputId": "75bce253-a983-40b6-9c4a-6e2399b25bad"
      },
      "source": [
        "%%time\n",
        "\n",
        "for epoch in range(2):  # loop over the dataset multiple times\n",
        "\n",
        "    running_loss = 0.0\n",
        "    for i, data in enumerate(trainloader, 0):\n",
        "        # get the inputs\n",
        "        inputs, labels = data\n",
        "\n",
        "        # zero the parameter gradients\n",
        "        optimizer.zero_grad()\n",
        "\n",
        "        # forward + backward + optimize\n",
        "        outputs = net(inputs)\n",
        "        loss = criterion(outputs, labels)\n",
        "        loss.backward()\n",
        "        optimizer.step()\n",
        "\n",
        "        # print statistics\n",
        "        running_loss += loss.item()\n",
        "        if i % 2000 == 1999:    # print every 2000 mini-batches\n",
        "            print('[%d, %5d] loss: %.3f' %\n",
        "                  (epoch + 1, i + 1, running_loss / 2000))\n",
        "            running_loss = 0.0\n",
        "\n",
        "print('Finished Training')"
      ],
      "execution_count": 45,
      "outputs": [
        {
          "output_type": "stream",
          "text": [
            "[1,  2000] loss: 2.171\n",
            "[1,  4000] loss: 1.863\n",
            "[1,  6000] loss: 1.670\n",
            "[1,  8000] loss: 1.584\n",
            "[1, 10000] loss: 1.499\n",
            "[1, 12000] loss: 1.458\n",
            "[2,  2000] loss: 1.386\n",
            "[2,  4000] loss: 1.346\n",
            "[2,  6000] loss: 1.341\n",
            "[2,  8000] loss: 1.312\n",
            "[2, 10000] loss: 1.291\n",
            "[2, 12000] loss: 1.272\n",
            "Finished Training\n",
            "CPU times: user 1min 44s, sys: 13.1 s, total: 1min 57s\n",
            "Wall time: 2min 28s\n"
          ],
          "name": "stdout"
        }
      ]
    },
    {
      "cell_type": "markdown",
      "metadata": {
        "id": "cYipqCOjdlJ0",
        "colab_type": "text"
      },
      "source": [
        "### (5) Test the network on the test data\n",
        "\n",
        "ネットワークが何を学習したかを確認しよう。\n"
      ]
    },
    {
      "cell_type": "code",
      "metadata": {
        "id": "6vp_VyvLdlJ0",
        "colab_type": "code",
        "colab": {
          "base_uri": "https://localhost:8080/",
          "height": 155
        },
        "outputId": "4538f811-164e-433f-9857-715f7a7b42f7"
      },
      "source": [
        "dataiter = iter(testloader)\n",
        "images, labels = dataiter.next()\n",
        "\n",
        "# print images\n",
        "imshow(torchvision.utils.make_grid(images))\n",
        "print('GroundTruth: ', ' '.join('%5s' % classes[labels[j]] for j in range(4)))"
      ],
      "execution_count": 46,
      "outputs": [
        {
          "output_type": "stream",
          "text": [
            "GroundTruth:    cat  ship  ship plane\n"
          ],
          "name": "stdout"
        },
        {
          "output_type": "display_data",
          "data": {
            "image/png": "[encoded data removed]",
            "text/plain": [
              "<Figure size 432x288 with 1 Axes>"
            ]
          },
          "metadata": {
            "tags": []
          }
        }
      ]
    },
    {
      "cell_type": "code",
      "metadata": {
        "id": "OrObcq7VdlJ2",
        "colab_type": "code",
        "colab": {}
      },
      "source": [
        "outputs = net(images)"
      ],
      "execution_count": 0,
      "outputs": []
    },
    {
      "cell_type": "markdown",
      "metadata": {
        "id": "ZQ8bWvdndlJ4",
        "colab_type": "text"
      },
      "source": [
        "出力は、10クラスのエネルギーなので、エネルギーが最も高いクラスである確率が高いと考えている。\n"
      ]
    },
    {
      "cell_type": "code",
      "metadata": {
        "id": "ukWdYZWcdlJ5",
        "colab_type": "code",
        "colab": {
          "base_uri": "https://localhost:8080/",
          "height": 34
        },
        "outputId": "fa0a9636-e075-45da-8459-1ffe57d23d99"
      },
      "source": [
        "_, predicted = torch.max(outputs, 1)\n",
        "\n",
        "print('Predicted: ', ' '.join('%5s' % classes[predicted[j]]\n",
        "                              for j in range(4)))"
      ],
      "execution_count": 48,
      "outputs": [
        {
          "output_type": "stream",
          "text": [
            "Predicted:   frog   car   car  ship\n"
          ],
          "name": "stdout"
        }
      ]
    },
    {
      "cell_type": "markdown",
      "metadata": {
        "id": "JH5sJTardlJ8",
        "colab_type": "text"
      },
      "source": [
        "結果はいい感じ！\n",
        "\n",
        "データセット全体でパフォーマンスを確認します。\n",
        "\n"
      ]
    },
    {
      "cell_type": "code",
      "metadata": {
        "id": "5B1alrnDdlJ9",
        "colab_type": "code",
        "colab": {
          "base_uri": "https://localhost:8080/",
          "height": 34
        },
        "outputId": "1cd2b0c7-9d83-447f-ed64-c378fd8368e1"
      },
      "source": [
        "correct = 0\n",
        "total = 0\n",
        "with torch.no_grad():\n",
        "    for data in testloader:\n",
        "        images, labels = data\n",
        "        outputs = net(images)\n",
        "        _, predicted = torch.max(outputs.data, 1)\n",
        "        total += labels.size(0)\n",
        "        correct += (predicted == labels).sum().item()\n",
        "\n",
        "print('Accuracy of the network on the 10000 test images: %d %%' % (\n",
        "    100 * correct / total))"
      ],
      "execution_count": 49,
      "outputs": [
        {
          "output_type": "stream",
          "text": [
            "Accuracy of the network on the 10000 test images: 53 %\n"
          ],
          "name": "stdout"
        }
      ]
    },
    {
      "cell_type": "markdown",
      "metadata": {
        "id": "T7ZpqWSzdlJ-",
        "colab_type": "text"
      },
      "source": [
        "チャンスレベル（10%）よりは良さそうです。\n",
        "\n",
        "うーん、うまく機能したクラスとうまく機能しなかったクラスは何ですか？\n",
        "\n"
      ]
    },
    {
      "cell_type": "code",
      "metadata": {
        "id": "9feWR4lxdlJ_",
        "colab_type": "code",
        "colab": {
          "base_uri": "https://localhost:8080/",
          "height": 186
        },
        "outputId": "bcb9d4db-9d74-4391-8fdc-42bbc2ceaa9c"
      },
      "source": [
        "class_correct = list(0. for i in range(10))\n",
        "class_total = list(0. for i in range(10))\n",
        "with torch.no_grad():\n",
        "    for data in testloader:\n",
        "        images, labels = data\n",
        "        outputs = net(images)\n",
        "        _, predicted = torch.max(outputs, 1)\n",
        "        c = (predicted == labels).squeeze()\n",
        "        for i in range(4):\n",
        "            label = labels[i]\n",
        "            class_correct[label] += c[i].item()\n",
        "            class_total[label] += 1\n",
        "\n",
        "\n",
        "for i in range(10):\n",
        "    print('Accuracy of %5s : %2d %%' % (\n",
        "        classes[i], 100 * class_correct[i] / class_total[i]))"
      ],
      "execution_count": 50,
      "outputs": [
        {
          "output_type": "stream",
          "text": [
            "Accuracy of plane : 43 %\n",
            "Accuracy of   car : 73 %\n",
            "Accuracy of  bird : 39 %\n",
            "Accuracy of   cat : 30 %\n",
            "Accuracy of  deer : 43 %\n",
            "Accuracy of   dog : 22 %\n",
            "Accuracy of  frog : 70 %\n",
            "Accuracy of horse : 64 %\n",
            "Accuracy of  ship : 78 %\n",
            "Accuracy of truck : 67 %\n"
          ],
          "name": "stdout"
        }
      ]
    },
    {
      "cell_type": "markdown",
      "metadata": {
        "id": "kIaSfcIAjk2-",
        "colab_type": "text"
      },
      "source": [
        "Training on GPU\n",
        "----------------\n",
        "\n",
        "TensorをGPUに転送するのと同じように、ニューラルネットをGPUに転送しよう。"
      ]
    },
    {
      "cell_type": "code",
      "metadata": {
        "id": "u2jzVXYVdlKB",
        "colab_type": "code",
        "colab": {
          "base_uri": "https://localhost:8080/",
          "height": 34
        },
        "outputId": "721cb24d-1604-4c76-fed2-5b17f15d9011"
      },
      "source": [
        "device = torch.device(\"cuda:0\" if torch.cuda.is_available() else \"cpu\")\n",
        "\n",
        "# Assume that we are on a CUDA machine, then this should print a CUDA device:\n",
        "\n",
        "print(device)"
      ],
      "execution_count": 51,
      "outputs": [
        {
          "output_type": "stream",
          "text": [
            "cuda:0\n"
          ],
          "name": "stdout"
        }
      ]
    },
    {
      "cell_type": "markdown",
      "metadata": {
        "id": "Z3zljshMkTQ8",
        "colab_type": "text"
      },
      "source": [
        "パラメーターとバッファーをCUDAテンソルに変換する。"
      ]
    },
    {
      "cell_type": "code",
      "metadata": {
        "id": "m27icYGNkO5f",
        "colab_type": "code",
        "colab": {
          "base_uri": "https://localhost:8080/",
          "height": 152
        },
        "outputId": "e3d23415-5276-4702-a599-1cddd7aaa65e"
      },
      "source": [
        "net.to(device)"
      ],
      "execution_count": 52,
      "outputs": [
        {
          "output_type": "execute_result",
          "data": {
            "text/plain": [
              "Net(\n",
              "  (conv1): Conv2d(3, 6, kernel_size=(5, 5), stride=(1, 1))\n",
              "  (pool): MaxPool2d(kernel_size=2, stride=2, padding=0, dilation=1, ceil_mode=False)\n",
              "  (conv2): Conv2d(6, 16, kernel_size=(5, 5), stride=(1, 1))\n",
              "  (fc1): Linear(in_features=400, out_features=120, bias=True)\n",
              "  (fc2): Linear(in_features=120, out_features=84, bias=True)\n",
              "  (fc3): Linear(in_features=84, out_features=10, bias=True)\n",
              ")"
            ]
          },
          "metadata": {
            "tags": []
          },
          "execution_count": 52
        }
      ]
    },
    {
      "cell_type": "code",
      "metadata": {
        "id": "Q1bftOXxk4ok",
        "colab_type": "code",
        "colab": {}
      },
      "source": [
        "criterion = criterion.to(device)\n",
        "optimizer = optim.SGD(net.parameters(), lr=0.001, momentum=0.9)"
      ],
      "execution_count": 0,
      "outputs": []
    },
    {
      "cell_type": "markdown",
      "metadata": {
        "id": "2e7g_FrplNzB",
        "colab_type": "text"
      },
      "source": [
        "学習を行う。"
      ]
    },
    {
      "cell_type": "code",
      "metadata": {
        "id": "IgcnYTvAkovW",
        "colab_type": "code",
        "colab": {
          "base_uri": "https://localhost:8080/",
          "height": 270
        },
        "outputId": "330c1c5f-c7cc-4f1e-d20b-d5e3e6197965"
      },
      "source": [
        "%%time\n",
        "\n",
        "for epoch in range(2):  # loop over the dataset multiple times\n",
        "\n",
        "    running_loss = 0.0\n",
        "    for i, data in enumerate(trainloader, 0):\n",
        "        # get the inputs\n",
        "        inputs, labels = data\n",
        "        inputs, labels = inputs.to(device), labels.to(device)\n",
        "\n",
        "        # zero the parameter gradients\n",
        "        optimizer.zero_grad()\n",
        "\n",
        "        # forward + backward + optimize\n",
        "        outputs = net(inputs)\n",
        "        loss = criterion(outputs, labels)\n",
        "        loss.backward()\n",
        "        optimizer.step()\n",
        "\n",
        "        # print statistics\n",
        "        running_loss += loss.item()\n",
        "        if i % 2000 == 1999:    # print every 2000 mini-batches\n",
        "            print('[%d, %5d] loss: %.3f' %\n",
        "                  (epoch + 1, i + 1, running_loss / 2000))\n",
        "            running_loss = 0.0\n",
        "\n",
        "print('Finished Training')"
      ],
      "execution_count": 54,
      "outputs": [
        {
          "output_type": "stream",
          "text": [
            "[1,  2000] loss: 1.200\n",
            "[1,  4000] loss: 1.187\n",
            "[1,  6000] loss: 1.185\n",
            "[1,  8000] loss: 1.185\n",
            "[1, 10000] loss: 1.161\n",
            "[1, 12000] loss: 1.175\n",
            "[2,  2000] loss: 1.082\n",
            "[2,  4000] loss: 1.116\n",
            "[2,  6000] loss: 1.071\n",
            "[2,  8000] loss: 1.098\n",
            "[2, 10000] loss: 1.090\n",
            "[2, 12000] loss: 1.067\n",
            "Finished Training\n",
            "CPU times: user 1min 38s, sys: 9.28 s, total: 1min 48s\n",
            "Wall time: 2min 12s\n"
          ],
          "name": "stdout"
        }
      ]
    },
    {
      "cell_type": "markdown",
      "metadata": {
        "id": "b1aBliUMdlKD",
        "colab_type": "text"
      },
      "source": [
        "Training on multiple GPUs\n",
        "-------------------------\n",
        "If you want to see even more MASSIVE speedup using all of your GPUs,\n",
        "please check out :doc:`data_parallel_tutorial`.\n",
        "\n",
        "Where do I go next?\n",
        "-------------------\n",
        "\n",
        "-  :doc:`Train neural nets to play video games </intermediate/reinforcement_q_learning>`\n",
        "-  `Train a state-of-the-art ResNet network on imagenet`_\n",
        "-  `Train a face generator using Generative Adversarial Networks`_\n",
        "-  `Train a word-level language model using Recurrent LSTM networks`_\n",
        "-  `More examples`_\n",
        "-  `More tutorials`_\n",
        "-  `Discuss PyTorch on the Forums`_\n",
        "-  `Chat with other users on Slack`_\n",
        "\n",
        "\n"
      ]
    },
    {
      "cell_type": "markdown",
      "metadata": {
        "id": "F02FVb6qnP3_",
        "colab_type": "text"
      },
      "source": [
        "\n",
        "5.Optional: Data Parallelism\n",
        "==========================\n",
        "**Authors**: `Sung Kim <https://github.com/hunkim>`_ and `Jenny Kang <https://github.com/jennykang>`_\n",
        "\n",
        "\n",
        "ここでは、``DataParallel``を使用して複数のGPUを使用する方法を学ぼう。\n",
        "\n",
        "\n"
      ]
    },
    {
      "cell_type": "markdown",
      "metadata": {
        "id": "c65DXTm9ovsD",
        "colab_type": "text"
      },
      "source": [
        "Pytorchでは、簡単にモデルをGPUに配置できる。\n",
        "\n",
        "~~~python\n",
        "device = torch.device(\"cuda:0\")\n",
        "model.to(device)\n",
        "\n",
        "mytensor = my_tensor.to(device)\n",
        "~~~\n",
        "\n",
        "複数のGPUで順伝播、逆伝播をするのが常識だよ。PytorchはデフォルトでGPUを1つしか使わないから、``DataParallel``で並列実行しよう。\n",
        "\n",
        "\n",
        "~~~python\n",
        "model = nn.DataParallel(model)\n",
        "~~~"
      ]
    },
    {
      "cell_type": "markdown",
      "metadata": {
        "id": "zcaegCEGnP4C",
        "colab_type": "text"
      },
      "source": [
        "Imports and parameters\n",
        "----------------------\n",
        "\n",
        "PyTorchモジュールをインポートし、パラメーターを定義する。\n",
        "\n",
        "\n"
      ]
    },
    {
      "cell_type": "code",
      "metadata": {
        "id": "J7G-tzv8nP4D",
        "colab_type": "code",
        "colab": {}
      },
      "source": [
        "import torch\n",
        "import torch.nn as nn\n",
        "from torch.utils.data import Dataset, DataLoader\n",
        "\n",
        "# Parameters and DataLoaders\n",
        "input_size = 5\n",
        "output_size = 2\n",
        "\n",
        "batch_size = 30\n",
        "data_size = 100"
      ],
      "execution_count": 0,
      "outputs": []
    },
    {
      "cell_type": "code",
      "metadata": {
        "id": "cWX6vk_rnP4G",
        "colab_type": "code",
        "colab": {}
      },
      "source": [
        "device = torch.device(\"cuda:0\" if torch.cuda.is_available() else \"cpu\")"
      ],
      "execution_count": 0,
      "outputs": []
    },
    {
      "cell_type": "markdown",
      "metadata": {
        "id": "Clw6XrWJnP4I",
        "colab_type": "text"
      },
      "source": [
        "Dummy DataSet\n",
        "-------------\n",
        "\n",
        "ダミー（ランダム）データセットをつくる。"
      ]
    },
    {
      "cell_type": "code",
      "metadata": {
        "id": "uzhncBetnP4I",
        "colab_type": "code",
        "colab": {}
      },
      "source": [
        "class RandomDataset(Dataset):\n",
        "\n",
        "    def __init__(self, size, length):\n",
        "        self.len = length\n",
        "        self.data = torch.randn(length, size)\n",
        "\n",
        "    def __getitem__(self, index):\n",
        "        return self.data[index]\n",
        "\n",
        "    def __len__(self):\n",
        "        return self.len\n",
        "\n",
        "rand_loader = DataLoader(dataset=RandomDataset(input_size, data_size),\n",
        "                         batch_size=batch_size, shuffle=True)"
      ],
      "execution_count": 0,
      "outputs": []
    },
    {
      "cell_type": "markdown",
      "metadata": {
        "id": "VY2_qdO7nP4K",
        "colab_type": "text"
      },
      "source": [
        "Simple Model\n",
        "------------\n",
        "\n",
        "デモでは、モデルは入力を取得し、線形演算を実行し、出力を生成する。\n",
        "\n",
        "入力および出力テンソルのサイズを監視するために、モデル内にprintステートメントを配置したので、バッチランク0で印刷されるものに注意してください。\n",
        "\n",
        "\n"
      ]
    },
    {
      "cell_type": "code",
      "metadata": {
        "id": "swi1KglinP4L",
        "colab_type": "code",
        "colab": {}
      },
      "source": [
        "class Model(nn.Module):\n",
        "    # Our model\n",
        "\n",
        "    def __init__(self, input_size, output_size):\n",
        "        super(Model, self).__init__()\n",
        "        self.fc = nn.Linear(input_size, output_size)\n",
        "\n",
        "    def forward(self, input):\n",
        "        output = self.fc(input)\n",
        "        print(\"\\tIn Model: input size\", input.size(),\n",
        "              \"output size\", output.size())\n",
        "\n",
        "        return output"
      ],
      "execution_count": 0,
      "outputs": []
    },
    {
      "cell_type": "markdown",
      "metadata": {
        "id": "kKqz97wRnP4N",
        "colab_type": "text"
      },
      "source": [
        "Create Model and DataParallel\n",
        "-----------------------------\n",
        "\n",
        "**これが重要！**\n",
        "\n",
        "まず、モデルインスタンスを作成し、複数のGPUがあるかどうかを確認出来たら``nn.DataParallel``を使用してモデルをラップできる。\n",
        "\n",
        "次に、``model.to(device)``によってGPUにモデルを配置できる。\n",
        "\n"
      ]
    },
    {
      "cell_type": "code",
      "metadata": {
        "id": "nuFI57fKnP4N",
        "colab_type": "code",
        "colab": {
          "base_uri": "https://localhost:8080/",
          "height": 67
        },
        "outputId": "a77770bb-77b4-464f-b707-027cef572073"
      },
      "source": [
        "model = Model(input_size, output_size)\n",
        "if torch.cuda.device_count() > 1:\n",
        "  print(\"Let's use\", torch.cuda.device_count(), \"GPUs!\")\n",
        "  # dim = 0 [30, xxx] -> [10, ...], [10, ...], [10, ...] on 3 GPUs\n",
        "  model = nn.DataParallel(model)\n",
        "\n",
        "model.to(device)"
      ],
      "execution_count": 59,
      "outputs": [
        {
          "output_type": "execute_result",
          "data": {
            "text/plain": [
              "Model(\n",
              "  (fc): Linear(in_features=5, out_features=2, bias=True)\n",
              ")"
            ]
          },
          "metadata": {
            "tags": []
          },
          "execution_count": 59
        }
      ]
    },
    {
      "cell_type": "markdown",
      "metadata": {
        "id": "sqADpfmHqn2F",
        "colab_type": "text"
      },
      "source": [
        "> Google Colabolatory では GPU 1枚みたい。"
      ]
    },
    {
      "cell_type": "markdown",
      "metadata": {
        "id": "By1ZIzLtnP4P",
        "colab_type": "text"
      },
      "source": [
        "Run the Model\n",
        "-------------\n",
        "\n",
        "これで、入力テンソルと出力テンソルのサイズを確認できます。\n",
        "\n",
        "\n"
      ]
    },
    {
      "cell_type": "code",
      "metadata": {
        "id": "e3D860f0nP4Q",
        "colab_type": "code",
        "colab": {
          "base_uri": "https://localhost:8080/",
          "height": 152
        },
        "outputId": "b7aa127c-f9fd-4a1c-8c27-29605aafb515"
      },
      "source": [
        "for data in rand_loader:\n",
        "    input = data.to(device)\n",
        "    output = model(input)\n",
        "    print(\"Outside: input size\", input.size(),\n",
        "          \"output_size\", output.size())"
      ],
      "execution_count": 60,
      "outputs": [
        {
          "output_type": "stream",
          "text": [
            "\tIn Model: input size torch.Size([30, 5]) output size torch.Size([30, 2])\n",
            "Outside: input size torch.Size([30, 5]) output_size torch.Size([30, 2])\n",
            "\tIn Model: input size torch.Size([30, 5]) output size torch.Size([30, 2])\n",
            "Outside: input size torch.Size([30, 5]) output_size torch.Size([30, 2])\n",
            "\tIn Model: input size torch.Size([30, 5]) output size torch.Size([30, 2])\n",
            "Outside: input size torch.Size([30, 5]) output_size torch.Size([30, 2])\n",
            "\tIn Model: input size torch.Size([10, 5]) output size torch.Size([10, 2])\n",
            "Outside: input size torch.Size([10, 5]) output_size torch.Size([10, 2])\n"
          ],
          "name": "stdout"
        }
      ]
    },
    {
      "cell_type": "markdown",
      "metadata": {
        "id": "NEfQ3daknP4S",
        "colab_type": "text"
      },
      "source": [
        "## Results\n",
        "\n",
        "\n",
        "\n",
        "2 GPUs\n",
        "~~~\n",
        "    Let's use 2 GPUs!\n",
        "        In Model: input size torch.Size([15, 5]) output size torch.Size([15, 2])\n",
        "        In Model: input size torch.Size([15, 5]) output size torch.Size([15, 2])\n",
        "    Outside: input size torch.Size([30, 5]) output_size torch.Size([30, 2])\n",
        "        In Model: input size torch.Size([15, 5]) output size torch.Size([15, 2])\n",
        "        In Model: input size torch.Size([15, 5]) output size torch.Size([15, 2])\n",
        "    Outside: input size torch.Size([30, 5]) output_size torch.Size([30, 2])\n",
        "        In Model: input size torch.Size([15, 5]) output size torch.Size([15, 2])\n",
        "        In Model: input size torch.Size([15, 5]) output size torch.Size([15, 2])\n",
        "    Outside: input size torch.Size([30, 5]) output_size torch.Size([30, 2])\n",
        "        In Model: input size torch.Size([5, 5]) output size torch.Size([5, 2])\n",
        "        In Model: input size torch.Size([5, 5]) output size torch.Size([5, 2])\n",
        "    Outside: input size torch.Size([10, 5]) output_size torch.Size([10, 2])\n",
        "~~~\n",
        "\n",
        "3 GPUs\n",
        "\n",
        "~~~\n",
        "    Let's use 3 GPUs!\n",
        "        In Model: input size torch.Size([10, 5]) output size torch.Size([10, 2])\n",
        "        In Model: input size torch.Size([10, 5]) output size torch.Size([10, 2])\n",
        "        In Model: input size torch.Size([10, 5]) output size torch.Size([10, 2])\n",
        "    Outside: input size torch.Size([30, 5]) output_size torch.Size([30, 2])\n",
        "        In Model: input size torch.Size([10, 5]) output size torch.Size([10, 2])\n",
        "        In Model: input size torch.Size([10, 5]) output size torch.Size([10, 2])\n",
        "        In Model: input size torch.Size([10, 5]) output size torch.Size([10, 2])\n",
        "    Outside: input size torch.Size([30, 5]) output_size torch.Size([30, 2])\n",
        "        In Model: input size torch.Size([10, 5]) output size torch.Size([10, 2])\n",
        "        In Model: input size torch.Size([10, 5]) output size torch.Size([10, 2])\n",
        "        In Model: input size torch.Size([10, 5]) output size torch.Size([10, 2])\n",
        "    Outside: input size torch.Size([30, 5]) output_size torch.Size([30, 2])\n",
        "        In Model: input size torch.Size([4, 5]) output size torch.Size([4, 2])\n",
        "        In Model: input size torch.Size([4, 5]) output size torch.Size([4, 2])\n",
        "        In Model: input size torch.Size([2, 5]) output size torch.Size([2, 2])\n",
        "    Outside: input size torch.Size([10, 5]) output_size torch.Size([10, 2])\n",
        "~~~\n",
        "\n",
        "8 GPUs\n",
        "\n",
        "~~~\n",
        "    Let's use 8 GPUs!\n",
        "        In Model: input size torch.Size([4, 5]) output size torch.Size([4, 2])\n",
        "        In Model: input size torch.Size([4, 5]) output size torch.Size([4, 2])\n",
        "        In Model: input size torch.Size([2, 5]) output size torch.Size([2, 2])\n",
        "        In Model: input size torch.Size([4, 5]) output size torch.Size([4, 2])\n",
        "        In Model: input size torch.Size([4, 5]) output size torch.Size([4, 2])\n",
        "        In Model: input size torch.Size([4, 5]) output size torch.Size([4, 2])\n",
        "        In Model: input size torch.Size([4, 5]) output size torch.Size([4, 2])\n",
        "        In Model: input size torch.Size([4, 5]) output size torch.Size([4, 2])\n",
        "    Outside: input size torch.Size([30, 5]) output_size torch.Size([30, 2])\n",
        "        In Model: input size torch.Size([4, 5]) output size torch.Size([4, 2])\n",
        "        In Model: input size torch.Size([4, 5]) output size torch.Size([4, 2])\n",
        "        In Model: input size torch.Size([4, 5]) output size torch.Size([4, 2])\n",
        "        In Model: input size torch.Size([4, 5]) output size torch.Size([4, 2])\n",
        "        In Model: input size torch.Size([4, 5]) output size torch.Size([4, 2])\n",
        "        In Model: input size torch.Size([4, 5]) output size torch.Size([4, 2])\n",
        "        In Model: input size torch.Size([2, 5]) output size torch.Size([2, 2])\n",
        "        In Model: input size torch.Size([4, 5]) output size torch.Size([4, 2])\n",
        "    Outside: input size torch.Size([30, 5]) output_size torch.Size([30, 2])\n",
        "        In Model: input size torch.Size([4, 5]) output size torch.Size([4, 2])\n",
        "        In Model: input size torch.Size([4, 5]) output size torch.Size([4, 2])\n",
        "        In Model: input size torch.Size([4, 5]) output size torch.Size([4, 2])\n",
        "        In Model: input size torch.Size([4, 5]) output size torch.Size([4, 2])\n",
        "        In Model: input size torch.Size([4, 5]) output size torch.Size([4, 2])\n",
        "        In Model: input size torch.Size([4, 5]) output size torch.Size([4, 2])\n",
        "        In Model: input size torch.Size([4, 5]) output size torch.Size([4, 2])\n",
        "        In Model: input size torch.Size([2, 5]) output size torch.Size([2, 2])\n",
        "    Outside: input size torch.Size([30, 5]) output_size torch.Size([30, 2])\n",
        "        In Model: input size torch.Size([2, 5]) output size torch.Size([2, 2])\n",
        "        In Model: input size torch.Size([2, 5]) output size torch.Size([2, 2])\n",
        "        In Model: input size torch.Size([2, 5]) output size torch.Size([2, 2])\n",
        "        In Model: input size torch.Size([2, 5]) output size torch.Size([2, 2])\n",
        "        In Model: input size torch.Size([2, 5]) output size torch.Size([2, 2])\n",
        "    Outside: input size torch.Size([10, 5]) output_size torch.Size([10, 2])\n",
        "~~~\n"
      ]
    },
    {
      "cell_type": "markdown",
      "metadata": {
        "id": "C5z89xrWnP4T",
        "colab_type": "text"
      },
      "source": [
        "詳細は、 https://pytorch.org/tutorials/beginner/former_torchies/parallelism_tutorial.html\n",
        "\n",
        "\n"
      ]
    }
  ]
}