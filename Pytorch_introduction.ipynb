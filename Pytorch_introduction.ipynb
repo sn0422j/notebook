{
  "nbformat": 4,
  "nbformat_minor": 0,
  "metadata": {
    "colab": {
      "name": "Pytorch_introduction.ipynb",
      "provenance": [],
      "collapsed_sections": [],
      "include_colab_link": true
    },
    "kernelspec": {
      "name": "python3",
      "display_name": "Python 3"
    },
    "accelerator": "GPU"
  },
  "cells": [
    {
      "cell_type": "markdown",
      "metadata": {
        "id": "view-in-github",
        "colab_type": "text"
      },
      "source": [
        "<a href=\"https://colab.research.google.com/github/sn0422j/notebook/blob/master/Pytorch_introduction.ipynb\" target=\"_parent\"><img src=\"https://colab.research.google.com/assets/colab-badge.svg\" alt=\"Open In Colab\"/></a>"
      ]
    },
    {
      "cell_type": "markdown",
      "metadata": {
        "id": "sXjNIvaZQqX0",
        "colab_type": "text"
      },
      "source": [
        "# Pytorch 基礎知識\n"
      ]
    },
    {
      "cell_type": "markdown",
      "metadata": {
        "id": "PjSW-d96RRAK",
        "colab_type": "text"
      },
      "source": [
        "**1-PyTorch 入門！人気急上昇中のPyTorchで知っておくべき6つの基礎知識**\n",
        "\n",
        "https://www.codexa.net/pytorch-python/\n",
        "\n",
        "特徴1 Numpyと類似した操作方法\n",
        "\n",
        "特徴2 海外を中心にコミュニティが活発\n",
        "\n",
        "特徴3 動的な計算グラフ"
      ]
    },
    {
      "cell_type": "code",
      "metadata": {
        "id": "h0Q9_gliLoYa",
        "colab_type": "code",
        "outputId": "79556eed-864c-4b1c-bbef-c235cbaebe54",
        "colab": {
          "base_uri": "https://localhost:8080/",
          "height": 146
        }
      },
      "source": [
        "#Google ColabへPyTorchをインストール\n",
        "!pip install -U torch torchvision"
      ],
      "execution_count": 0,
      "outputs": [
        {
          "output_type": "stream",
          "text": [
            "Requirement already up-to-date: torch in /usr/local/lib/python3.6/dist-packages (1.3.0+cu100)\n",
            "Requirement already up-to-date: torchvision in /usr/local/lib/python3.6/dist-packages (0.4.1+cu100)\n",
            "Requirement already satisfied, skipping upgrade: numpy in /usr/local/lib/python3.6/dist-packages (from torch) (1.16.5)\n",
            "Requirement already satisfied, skipping upgrade: six in /usr/local/lib/python3.6/dist-packages (from torchvision) (1.12.0)\n",
            "Requirement already satisfied, skipping upgrade: pillow>=4.1.1 in /usr/local/lib/python3.6/dist-packages (from torchvision) (4.3.0)\n",
            "Requirement already satisfied, skipping upgrade: olefile in /usr/local/lib/python3.6/dist-packages (from pillow>=4.1.1->torchvision) (0.46)\n"
          ],
          "name": "stdout"
        }
      ]
    },
    {
      "cell_type": "code",
      "metadata": {
        "id": "0xI9n86gRd-E",
        "colab_type": "code",
        "outputId": "a6d4b259-c624-45dc-cf15-782cf87496a2",
        "colab": {
          "base_uri": "https://localhost:8080/",
          "height": 35
        }
      },
      "source": [
        "import torch\n",
        "print(torch.__version__)"
      ],
      "execution_count": 0,
      "outputs": [
        {
          "output_type": "stream",
          "text": [
            "1.3.0+cu100\n"
          ],
          "name": "stdout"
        }
      ]
    },
    {
      "cell_type": "markdown",
      "metadata": {
        "id": "6JLB8QNIRgvQ",
        "colab_type": "text"
      },
      "source": [
        "①PyTorchの基本操作"
      ]
    },
    {
      "cell_type": "code",
      "metadata": {
        "id": "MVL1rrcxRd7n",
        "colab_type": "code",
        "colab": {}
      },
      "source": [
        "#テンソルの作成\n",
        "x = torch.Tensor(2, 2)\n",
        "print('x :',x)\n",
        "\n",
        "x2_list = [[1,2,3],[4,5,6]]\n",
        "x2 = torch.Tensor(x2_list)\n",
        "print('x2 :',x2)\n",
        "\n",
        "#サイズ確認\n",
        "print('x2size :', x2.size())\n",
        "\n",
        "#乱数の生成\n",
        "print('一様分布乱数',torch.rand(2,2))\n",
        "print('正規分布乱数',torch.randn(2,2))\n",
        "\n",
        "#その他行列の生成\n",
        "print('単位行列',torch.eye(3,3))\n",
        "print('空のテンソル',torch.empty(4,1))\n",
        "print('等間隔の数列',torch.linspace(0, 100, 11))"
      ],
      "execution_count": 0,
      "outputs": []
    },
    {
      "cell_type": "code",
      "metadata": {
        "id": "imLfOT1hReC3",
        "colab_type": "code",
        "colab": {}
      },
      "source": [
        "#基本演算\n",
        "x = torch.Tensor([[2, 2], [1, 1]])\n",
        "y = torch.Tensor([[3, 2], [1, 2]])\n",
        "\n",
        "print('足し算',x + y)\n",
        "print('引き算',x + y)\n",
        "print('アダマール積',torch.mul(x,y))\n",
        "print('内積',torch.mm(x,y))\n",
        "print('全要素の総和',torch.sum(x))\n",
        "print('全要素の標準偏差',torch.std(x))\n",
        "print('全要素の算術平均',torch.mean(x))"
      ],
      "execution_count": 0,
      "outputs": []
    },
    {
      "cell_type": "markdown",
      "metadata": {
        "id": "_39WWZ6xU4e3",
        "colab_type": "text"
      },
      "source": [
        "②PyTorchを使って線形回帰\n",
        "\n",
        "PyTorchのコーディング演習として、世界各国で売られているラーメンのレビューデータを使いましょう。ラーメンのブランド、発売国、さらに販売種別（カップラーメン・袋麺）などの特徴量をから評価を予測してみます。\n",
        "\n",
        "https://www.kaggle.com/residentmario/ramen-ratings"
      ]
    },
    {
      "cell_type": "code",
      "metadata": {
        "colab_type": "code",
        "id": "QBP8Od76XeNU",
        "colab": {}
      },
      "source": [
        "#from google.colab import files\n",
        "#files.upload()"
      ],
      "execution_count": 0,
      "outputs": []
    },
    {
      "cell_type": "code",
      "metadata": {
        "colab_type": "code",
        "id": "GUMoDcr1Xd3S",
        "colab": {}
      },
      "source": [
        "#!mkdir -p ~/.kaggle\n",
        "#!mv kaggle.json ~/.kaggle/\n",
        "#!pip install kaggle\n",
        "#!chmod 600 /root/.kaggle/kaggle.json"
      ],
      "execution_count": 0,
      "outputs": []
    },
    {
      "cell_type": "code",
      "metadata": {
        "colab_type": "code",
        "id": "6dDvZlr0XfSc",
        "colab": {}
      },
      "source": [
        "#!kaggle datasets download -d residentmario/ramen-ratings"
      ],
      "execution_count": 0,
      "outputs": []
    },
    {
      "cell_type": "code",
      "metadata": {
        "id": "83ohqwvVYKbn",
        "colab_type": "code",
        "colab": {}
      },
      "source": [
        "#import zipfile\n",
        "#with zipfile.ZipFile('ramen-ratings.zip') as existing_zip:\n",
        "    #existing_zip.extractall()"
      ],
      "execution_count": 0,
      "outputs": []
    },
    {
      "cell_type": "code",
      "metadata": {
        "id": "DXzUol0lZBwV",
        "colab_type": "code",
        "outputId": "647562bc-d688-4ad1-99dc-d22596152109",
        "colab": {
          "base_uri": "https://localhost:8080/",
          "height": 35
        }
      },
      "source": [
        "!ls"
      ],
      "execution_count": 0,
      "outputs": [
        {
          "output_type": "stream",
          "text": [
            "ramen-ratings.csv  ramen-ratings.zip  sample_data\n"
          ],
          "name": "stdout"
        }
      ]
    },
    {
      "cell_type": "code",
      "metadata": {
        "colab_type": "code",
        "id": "UsummZ5GXcwO",
        "outputId": "7dfc8e6c-69a6-420e-d1a4-991be883ebe6",
        "colab": {
          "base_uri": "https://localhost:8080/",
          "height": 254
        }
      },
      "source": [
        "#準備\n",
        "import numpy as np\n",
        "import pandas as pd \n",
        "import matplotlib.pyplot as plt\n",
        "import seaborn as sns \n",
        "import torch.nn as nn\n",
        "from sklearn.metrics import mean_squared_error\n",
        "\n",
        "ramen = pd.read_csv('ramen-ratings.csv')\n",
        "ramen.head() #最初の5行を表示"
      ],
      "execution_count": 0,
      "outputs": [
        {
          "output_type": "execute_result",
          "data": {
            "text/html": [
              "<div>\n",
              "<style scoped>\n",
              "    .dataframe tbody tr th:only-of-type {\n",
              "        vertical-align: middle;\n",
              "    }\n",
              "\n",
              "    .dataframe tbody tr th {\n",
              "        vertical-align: top;\n",
              "    }\n",
              "\n",
              "    .dataframe thead th {\n",
              "        text-align: right;\n",
              "    }\n",
              "</style>\n",
              "<table border=\"1\" class=\"dataframe\">\n",
              "  <thead>\n",
              "    <tr style=\"text-align: right;\">\n",
              "      <th></th>\n",
              "      <th>Review #</th>\n",
              "      <th>Brand</th>\n",
              "      <th>Variety</th>\n",
              "      <th>Style</th>\n",
              "      <th>Country</th>\n",
              "      <th>Stars</th>\n",
              "      <th>Top Ten</th>\n",
              "    </tr>\n",
              "  </thead>\n",
              "  <tbody>\n",
              "    <tr>\n",
              "      <th>0</th>\n",
              "      <td>2580</td>\n",
              "      <td>New Touch</td>\n",
              "      <td>T's Restaurant Tantanmen</td>\n",
              "      <td>Cup</td>\n",
              "      <td>Japan</td>\n",
              "      <td>3.75</td>\n",
              "      <td>NaN</td>\n",
              "    </tr>\n",
              "    <tr>\n",
              "      <th>1</th>\n",
              "      <td>2579</td>\n",
              "      <td>Just Way</td>\n",
              "      <td>Noodles Spicy Hot Sesame Spicy Hot Sesame Guan...</td>\n",
              "      <td>Pack</td>\n",
              "      <td>Taiwan</td>\n",
              "      <td>1</td>\n",
              "      <td>NaN</td>\n",
              "    </tr>\n",
              "    <tr>\n",
              "      <th>2</th>\n",
              "      <td>2578</td>\n",
              "      <td>Nissin</td>\n",
              "      <td>Cup Noodles Chicken Vegetable</td>\n",
              "      <td>Cup</td>\n",
              "      <td>USA</td>\n",
              "      <td>2.25</td>\n",
              "      <td>NaN</td>\n",
              "    </tr>\n",
              "    <tr>\n",
              "      <th>3</th>\n",
              "      <td>2577</td>\n",
              "      <td>Wei Lih</td>\n",
              "      <td>GGE Ramen Snack Tomato Flavor</td>\n",
              "      <td>Pack</td>\n",
              "      <td>Taiwan</td>\n",
              "      <td>2.75</td>\n",
              "      <td>NaN</td>\n",
              "    </tr>\n",
              "    <tr>\n",
              "      <th>4</th>\n",
              "      <td>2576</td>\n",
              "      <td>Ching's Secret</td>\n",
              "      <td>Singapore Curry</td>\n",
              "      <td>Pack</td>\n",
              "      <td>India</td>\n",
              "      <td>3.75</td>\n",
              "      <td>NaN</td>\n",
              "    </tr>\n",
              "  </tbody>\n",
              "</table>\n",
              "</div>"
            ],
            "text/plain": [
              "   Review #           Brand  ... Stars Top Ten\n",
              "0      2580       New Touch  ...  3.75     NaN\n",
              "1      2579        Just Way  ...     1     NaN\n",
              "2      2578          Nissin  ...  2.25     NaN\n",
              "3      2577         Wei Lih  ...  2.75     NaN\n",
              "4      2576  Ching's Secret  ...  3.75     NaN\n",
              "\n",
              "[5 rows x 7 columns]"
            ]
          },
          "metadata": {
            "tags": []
          },
          "execution_count": 10
        }
      ]
    },
    {
      "cell_type": "code",
      "metadata": {
        "id": "ViWr36IuYKeZ",
        "colab_type": "code",
        "outputId": "3995bb13-734b-483f-b973-271b8c268a32",
        "colab": {
          "base_uri": "https://localhost:8080/",
          "height": 254
        }
      },
      "source": [
        "#探索的データ解析\n",
        "print('data size :',ramen.shape)\n",
        "print('data by country :')\n",
        "print(ramen['Country'].value_counts()[0:10])"
      ],
      "execution_count": 0,
      "outputs": [
        {
          "output_type": "stream",
          "text": [
            "data size : (2580, 7)\n",
            "data by country :\n",
            "Japan          352\n",
            "USA            323\n",
            "South Korea    309\n",
            "Taiwan         224\n",
            "Thailand       191\n",
            "China          169\n",
            "Malaysia       156\n",
            "Hong Kong      137\n",
            "Indonesia      126\n",
            "Singapore      109\n",
            "Name: Country, dtype: int64\n"
          ],
          "name": "stdout"
        }
      ]
    },
    {
      "cell_type": "code",
      "metadata": {
        "id": "uN_j0ewBYKj4",
        "colab_type": "code",
        "outputId": "03251900-c283-4f79-ac12-5452bb9c2b08",
        "colab": {
          "base_uri": "https://localhost:8080/",
          "height": 35
        }
      },
      "source": [
        "#未評価（Unrated）のラーメンを除外\n",
        "mask = ramen.index[ramen['Stars'] == 'Unrated']\n",
        "ramen = ramen.drop(index = mask)\n",
        "ramen.shape"
      ],
      "execution_count": 0,
      "outputs": [
        {
          "output_type": "execute_result",
          "data": {
            "text/plain": [
              "(2577, 7)"
            ]
          },
          "metadata": {
            "tags": []
          },
          "execution_count": 12
        }
      ]
    },
    {
      "cell_type": "code",
      "metadata": {
        "id": "3gT6O7g2YKmm",
        "colab_type": "code",
        "outputId": "92326505-c100-4e0c-836e-2966a3a788c0",
        "colab": {
          "base_uri": "https://localhost:8080/",
          "height": 53
        }
      },
      "source": [
        "# Starsのデータ型を確認\n",
        "print(ramen['Stars'].dtype)\n",
        "# float型へ変換\n",
        "ramen['Stars'] = ramen['Stars'].astype(float)\n",
        "# 改めてデータ型を確認\n",
        "print(ramen['Stars'].dtype)"
      ],
      "execution_count": 0,
      "outputs": [
        {
          "output_type": "stream",
          "text": [
            "object\n",
            "float64\n"
          ],
          "name": "stdout"
        }
      ]
    },
    {
      "cell_type": "code",
      "metadata": {
        "id": "_suyOsgjaluI",
        "colab_type": "code",
        "outputId": "7f586934-e975-4073-b399-0cec969e3c45",
        "colab": {
          "base_uri": "https://localhost:8080/",
          "height": 202
        }
      },
      "source": [
        "# 不要なカラムをデータから削除(Brand, Style, Countryのみ使う)\n",
        "ramen = ramen.drop(columns=['Review #', 'Top Ten', 'Variety'])\n",
        "ramen.head()"
      ],
      "execution_count": 0,
      "outputs": [
        {
          "output_type": "execute_result",
          "data": {
            "text/html": [
              "<div>\n",
              "<style scoped>\n",
              "    .dataframe tbody tr th:only-of-type {\n",
              "        vertical-align: middle;\n",
              "    }\n",
              "\n",
              "    .dataframe tbody tr th {\n",
              "        vertical-align: top;\n",
              "    }\n",
              "\n",
              "    .dataframe thead th {\n",
              "        text-align: right;\n",
              "    }\n",
              "</style>\n",
              "<table border=\"1\" class=\"dataframe\">\n",
              "  <thead>\n",
              "    <tr style=\"text-align: right;\">\n",
              "      <th></th>\n",
              "      <th>Brand</th>\n",
              "      <th>Style</th>\n",
              "      <th>Country</th>\n",
              "      <th>Stars</th>\n",
              "    </tr>\n",
              "  </thead>\n",
              "  <tbody>\n",
              "    <tr>\n",
              "      <th>0</th>\n",
              "      <td>New Touch</td>\n",
              "      <td>Cup</td>\n",
              "      <td>Japan</td>\n",
              "      <td>3.75</td>\n",
              "    </tr>\n",
              "    <tr>\n",
              "      <th>1</th>\n",
              "      <td>Just Way</td>\n",
              "      <td>Pack</td>\n",
              "      <td>Taiwan</td>\n",
              "      <td>1.00</td>\n",
              "    </tr>\n",
              "    <tr>\n",
              "      <th>2</th>\n",
              "      <td>Nissin</td>\n",
              "      <td>Cup</td>\n",
              "      <td>USA</td>\n",
              "      <td>2.25</td>\n",
              "    </tr>\n",
              "    <tr>\n",
              "      <th>3</th>\n",
              "      <td>Wei Lih</td>\n",
              "      <td>Pack</td>\n",
              "      <td>Taiwan</td>\n",
              "      <td>2.75</td>\n",
              "    </tr>\n",
              "    <tr>\n",
              "      <th>4</th>\n",
              "      <td>Ching's Secret</td>\n",
              "      <td>Pack</td>\n",
              "      <td>India</td>\n",
              "      <td>3.75</td>\n",
              "    </tr>\n",
              "  </tbody>\n",
              "</table>\n",
              "</div>"
            ],
            "text/plain": [
              "            Brand Style Country  Stars\n",
              "0       New Touch   Cup   Japan   3.75\n",
              "1        Just Way  Pack  Taiwan   1.00\n",
              "2          Nissin   Cup     USA   2.25\n",
              "3         Wei Lih  Pack  Taiwan   2.75\n",
              "4  Ching's Secret  Pack   India   3.75"
            ]
          },
          "metadata": {
            "tags": []
          },
          "execution_count": 14
        }
      ]
    },
    {
      "cell_type": "code",
      "metadata": {
        "id": "rA1WXI6ma2s0",
        "colab_type": "code",
        "outputId": "cfa536e5-fcef-4aea-dd0b-ec644ed686f8",
        "colab": {
          "base_uri": "https://localhost:8080/",
          "height": 268
        }
      },
      "source": [
        "# 特徴量のダミー変数化\n",
        "Country = pd.get_dummies(ramen['Country'], prefix='Country', drop_first=True)\n",
        "Brand = pd.get_dummies(ramen['Brand'], prefix='Brand',drop_first=True)\n",
        "Style = pd.get_dummies(ramen['Style'], prefix='Style',drop_first=True)\n",
        "# ダミー変数化した特徴量を結合\n",
        "ramendf = pd.concat([Country, Brand,Style], axis=1)\n",
        "# 確認\n",
        "ramendf.head()"
      ],
      "execution_count": 0,
      "outputs": [
        {
          "output_type": "execute_result",
          "data": {
            "text/html": [
              "<div>\n",
              "<style scoped>\n",
              "    .dataframe tbody tr th:only-of-type {\n",
              "        vertical-align: middle;\n",
              "    }\n",
              "\n",
              "    .dataframe tbody tr th {\n",
              "        vertical-align: top;\n",
              "    }\n",
              "\n",
              "    .dataframe thead th {\n",
              "        text-align: right;\n",
              "    }\n",
              "</style>\n",
              "<table border=\"1\" class=\"dataframe\">\n",
              "  <thead>\n",
              "    <tr style=\"text-align: right;\">\n",
              "      <th></th>\n",
              "      <th>Country_Bangladesh</th>\n",
              "      <th>Country_Brazil</th>\n",
              "      <th>Country_Cambodia</th>\n",
              "      <th>Country_Canada</th>\n",
              "      <th>Country_China</th>\n",
              "      <th>Country_Colombia</th>\n",
              "      <th>Country_Dubai</th>\n",
              "      <th>Country_Estonia</th>\n",
              "      <th>Country_Fiji</th>\n",
              "      <th>Country_Finland</th>\n",
              "      <th>Country_Germany</th>\n",
              "      <th>Country_Ghana</th>\n",
              "      <th>Country_Holland</th>\n",
              "      <th>Country_Hong Kong</th>\n",
              "      <th>Country_Hungary</th>\n",
              "      <th>Country_India</th>\n",
              "      <th>Country_Indonesia</th>\n",
              "      <th>Country_Japan</th>\n",
              "      <th>Country_Malaysia</th>\n",
              "      <th>Country_Mexico</th>\n",
              "      <th>Country_Myanmar</th>\n",
              "      <th>Country_Nepal</th>\n",
              "      <th>Country_Netherlands</th>\n",
              "      <th>Country_Nigeria</th>\n",
              "      <th>Country_Pakistan</th>\n",
              "      <th>Country_Philippines</th>\n",
              "      <th>Country_Poland</th>\n",
              "      <th>Country_Sarawak</th>\n",
              "      <th>Country_Singapore</th>\n",
              "      <th>Country_South Korea</th>\n",
              "      <th>Country_Sweden</th>\n",
              "      <th>Country_Taiwan</th>\n",
              "      <th>Country_Thailand</th>\n",
              "      <th>Country_UK</th>\n",
              "      <th>Country_USA</th>\n",
              "      <th>Country_United States</th>\n",
              "      <th>Country_Vietnam</th>\n",
              "      <th>Brand_7 Select</th>\n",
              "      <th>Brand_7 Select/Nissin</th>\n",
              "      <th>Brand_A-One</th>\n",
              "      <th>...</th>\n",
              "      <th>Brand_Unif Tung-I</th>\n",
              "      <th>Brand_Unif-100</th>\n",
              "      <th>Brand_United</th>\n",
              "      <th>Brand_Unox</th>\n",
              "      <th>Brand_Unzen</th>\n",
              "      <th>Brand_Urban Noodle</th>\n",
              "      <th>Brand_Ve Wong</th>\n",
              "      <th>Brand_Vedan</th>\n",
              "      <th>Brand_Vifon</th>\n",
              "      <th>Brand_Vina Acecook</th>\n",
              "      <th>Brand_Vit's</th>\n",
              "      <th>Brand_Wai Wai</th>\n",
              "      <th>Brand_Wang</th>\n",
              "      <th>Brand_Weh Lih</th>\n",
              "      <th>Brand_Wei Chuan</th>\n",
              "      <th>Brand_Wei Lih</th>\n",
              "      <th>Brand_Wei Wei</th>\n",
              "      <th>Brand_Westbrae</th>\n",
              "      <th>Brand_Western Family</th>\n",
              "      <th>Brand_World O' Noodle</th>\n",
              "      <th>Brand_Wu Mu</th>\n",
              "      <th>Brand_Wu-Mu</th>\n",
              "      <th>Brand_Wugudaochang</th>\n",
              "      <th>Brand_Xiao Ban Mian</th>\n",
              "      <th>Brand_Xiuhe</th>\n",
              "      <th>Brand_Yamachan</th>\n",
              "      <th>Brand_Yamadai</th>\n",
              "      <th>Brand_Yamamori</th>\n",
              "      <th>Brand_Yamamoto</th>\n",
              "      <th>Brand_Yum Yum</th>\n",
              "      <th>Brand_Yum-Mie</th>\n",
              "      <th>Brand_Zow Zow</th>\n",
              "      <th>Brand_iMee</th>\n",
              "      <th>Brand_iNoodle</th>\n",
              "      <th>Style_Bowl</th>\n",
              "      <th>Style_Box</th>\n",
              "      <th>Style_Can</th>\n",
              "      <th>Style_Cup</th>\n",
              "      <th>Style_Pack</th>\n",
              "      <th>Style_Tray</th>\n",
              "    </tr>\n",
              "  </thead>\n",
              "  <tbody>\n",
              "    <tr>\n",
              "      <th>0</th>\n",
              "      <td>0</td>\n",
              "      <td>0</td>\n",
              "      <td>0</td>\n",
              "      <td>0</td>\n",
              "      <td>0</td>\n",
              "      <td>0</td>\n",
              "      <td>0</td>\n",
              "      <td>0</td>\n",
              "      <td>0</td>\n",
              "      <td>0</td>\n",
              "      <td>0</td>\n",
              "      <td>0</td>\n",
              "      <td>0</td>\n",
              "      <td>0</td>\n",
              "      <td>0</td>\n",
              "      <td>0</td>\n",
              "      <td>0</td>\n",
              "      <td>1</td>\n",
              "      <td>0</td>\n",
              "      <td>0</td>\n",
              "      <td>0</td>\n",
              "      <td>0</td>\n",
              "      <td>0</td>\n",
              "      <td>0</td>\n",
              "      <td>0</td>\n",
              "      <td>0</td>\n",
              "      <td>0</td>\n",
              "      <td>0</td>\n",
              "      <td>0</td>\n",
              "      <td>0</td>\n",
              "      <td>0</td>\n",
              "      <td>0</td>\n",
              "      <td>0</td>\n",
              "      <td>0</td>\n",
              "      <td>0</td>\n",
              "      <td>0</td>\n",
              "      <td>0</td>\n",
              "      <td>0</td>\n",
              "      <td>0</td>\n",
              "      <td>0</td>\n",
              "      <td>...</td>\n",
              "      <td>0</td>\n",
              "      <td>0</td>\n",
              "      <td>0</td>\n",
              "      <td>0</td>\n",
              "      <td>0</td>\n",
              "      <td>0</td>\n",
              "      <td>0</td>\n",
              "      <td>0</td>\n",
              "      <td>0</td>\n",
              "      <td>0</td>\n",
              "      <td>0</td>\n",
              "      <td>0</td>\n",
              "      <td>0</td>\n",
              "      <td>0</td>\n",
              "      <td>0</td>\n",
              "      <td>0</td>\n",
              "      <td>0</td>\n",
              "      <td>0</td>\n",
              "      <td>0</td>\n",
              "      <td>0</td>\n",
              "      <td>0</td>\n",
              "      <td>0</td>\n",
              "      <td>0</td>\n",
              "      <td>0</td>\n",
              "      <td>0</td>\n",
              "      <td>0</td>\n",
              "      <td>0</td>\n",
              "      <td>0</td>\n",
              "      <td>0</td>\n",
              "      <td>0</td>\n",
              "      <td>0</td>\n",
              "      <td>0</td>\n",
              "      <td>0</td>\n",
              "      <td>0</td>\n",
              "      <td>0</td>\n",
              "      <td>0</td>\n",
              "      <td>0</td>\n",
              "      <td>1</td>\n",
              "      <td>0</td>\n",
              "      <td>0</td>\n",
              "    </tr>\n",
              "    <tr>\n",
              "      <th>1</th>\n",
              "      <td>0</td>\n",
              "      <td>0</td>\n",
              "      <td>0</td>\n",
              "      <td>0</td>\n",
              "      <td>0</td>\n",
              "      <td>0</td>\n",
              "      <td>0</td>\n",
              "      <td>0</td>\n",
              "      <td>0</td>\n",
              "      <td>0</td>\n",
              "      <td>0</td>\n",
              "      <td>0</td>\n",
              "      <td>0</td>\n",
              "      <td>0</td>\n",
              "      <td>0</td>\n",
              "      <td>0</td>\n",
              "      <td>0</td>\n",
              "      <td>0</td>\n",
              "      <td>0</td>\n",
              "      <td>0</td>\n",
              "      <td>0</td>\n",
              "      <td>0</td>\n",
              "      <td>0</td>\n",
              "      <td>0</td>\n",
              "      <td>0</td>\n",
              "      <td>0</td>\n",
              "      <td>0</td>\n",
              "      <td>0</td>\n",
              "      <td>0</td>\n",
              "      <td>0</td>\n",
              "      <td>0</td>\n",
              "      <td>1</td>\n",
              "      <td>0</td>\n",
              "      <td>0</td>\n",
              "      <td>0</td>\n",
              "      <td>0</td>\n",
              "      <td>0</td>\n",
              "      <td>0</td>\n",
              "      <td>0</td>\n",
              "      <td>0</td>\n",
              "      <td>...</td>\n",
              "      <td>0</td>\n",
              "      <td>0</td>\n",
              "      <td>0</td>\n",
              "      <td>0</td>\n",
              "      <td>0</td>\n",
              "      <td>0</td>\n",
              "      <td>0</td>\n",
              "      <td>0</td>\n",
              "      <td>0</td>\n",
              "      <td>0</td>\n",
              "      <td>0</td>\n",
              "      <td>0</td>\n",
              "      <td>0</td>\n",
              "      <td>0</td>\n",
              "      <td>0</td>\n",
              "      <td>0</td>\n",
              "      <td>0</td>\n",
              "      <td>0</td>\n",
              "      <td>0</td>\n",
              "      <td>0</td>\n",
              "      <td>0</td>\n",
              "      <td>0</td>\n",
              "      <td>0</td>\n",
              "      <td>0</td>\n",
              "      <td>0</td>\n",
              "      <td>0</td>\n",
              "      <td>0</td>\n",
              "      <td>0</td>\n",
              "      <td>0</td>\n",
              "      <td>0</td>\n",
              "      <td>0</td>\n",
              "      <td>0</td>\n",
              "      <td>0</td>\n",
              "      <td>0</td>\n",
              "      <td>0</td>\n",
              "      <td>0</td>\n",
              "      <td>0</td>\n",
              "      <td>0</td>\n",
              "      <td>1</td>\n",
              "      <td>0</td>\n",
              "    </tr>\n",
              "    <tr>\n",
              "      <th>2</th>\n",
              "      <td>0</td>\n",
              "      <td>0</td>\n",
              "      <td>0</td>\n",
              "      <td>0</td>\n",
              "      <td>0</td>\n",
              "      <td>0</td>\n",
              "      <td>0</td>\n",
              "      <td>0</td>\n",
              "      <td>0</td>\n",
              "      <td>0</td>\n",
              "      <td>0</td>\n",
              "      <td>0</td>\n",
              "      <td>0</td>\n",
              "      <td>0</td>\n",
              "      <td>0</td>\n",
              "      <td>0</td>\n",
              "      <td>0</td>\n",
              "      <td>0</td>\n",
              "      <td>0</td>\n",
              "      <td>0</td>\n",
              "      <td>0</td>\n",
              "      <td>0</td>\n",
              "      <td>0</td>\n",
              "      <td>0</td>\n",
              "      <td>0</td>\n",
              "      <td>0</td>\n",
              "      <td>0</td>\n",
              "      <td>0</td>\n",
              "      <td>0</td>\n",
              "      <td>0</td>\n",
              "      <td>0</td>\n",
              "      <td>0</td>\n",
              "      <td>0</td>\n",
              "      <td>0</td>\n",
              "      <td>1</td>\n",
              "      <td>0</td>\n",
              "      <td>0</td>\n",
              "      <td>0</td>\n",
              "      <td>0</td>\n",
              "      <td>0</td>\n",
              "      <td>...</td>\n",
              "      <td>0</td>\n",
              "      <td>0</td>\n",
              "      <td>0</td>\n",
              "      <td>0</td>\n",
              "      <td>0</td>\n",
              "      <td>0</td>\n",
              "      <td>0</td>\n",
              "      <td>0</td>\n",
              "      <td>0</td>\n",
              "      <td>0</td>\n",
              "      <td>0</td>\n",
              "      <td>0</td>\n",
              "      <td>0</td>\n",
              "      <td>0</td>\n",
              "      <td>0</td>\n",
              "      <td>0</td>\n",
              "      <td>0</td>\n",
              "      <td>0</td>\n",
              "      <td>0</td>\n",
              "      <td>0</td>\n",
              "      <td>0</td>\n",
              "      <td>0</td>\n",
              "      <td>0</td>\n",
              "      <td>0</td>\n",
              "      <td>0</td>\n",
              "      <td>0</td>\n",
              "      <td>0</td>\n",
              "      <td>0</td>\n",
              "      <td>0</td>\n",
              "      <td>0</td>\n",
              "      <td>0</td>\n",
              "      <td>0</td>\n",
              "      <td>0</td>\n",
              "      <td>0</td>\n",
              "      <td>0</td>\n",
              "      <td>0</td>\n",
              "      <td>0</td>\n",
              "      <td>1</td>\n",
              "      <td>0</td>\n",
              "      <td>0</td>\n",
              "    </tr>\n",
              "    <tr>\n",
              "      <th>3</th>\n",
              "      <td>0</td>\n",
              "      <td>0</td>\n",
              "      <td>0</td>\n",
              "      <td>0</td>\n",
              "      <td>0</td>\n",
              "      <td>0</td>\n",
              "      <td>0</td>\n",
              "      <td>0</td>\n",
              "      <td>0</td>\n",
              "      <td>0</td>\n",
              "      <td>0</td>\n",
              "      <td>0</td>\n",
              "      <td>0</td>\n",
              "      <td>0</td>\n",
              "      <td>0</td>\n",
              "      <td>0</td>\n",
              "      <td>0</td>\n",
              "      <td>0</td>\n",
              "      <td>0</td>\n",
              "      <td>0</td>\n",
              "      <td>0</td>\n",
              "      <td>0</td>\n",
              "      <td>0</td>\n",
              "      <td>0</td>\n",
              "      <td>0</td>\n",
              "      <td>0</td>\n",
              "      <td>0</td>\n",
              "      <td>0</td>\n",
              "      <td>0</td>\n",
              "      <td>0</td>\n",
              "      <td>0</td>\n",
              "      <td>1</td>\n",
              "      <td>0</td>\n",
              "      <td>0</td>\n",
              "      <td>0</td>\n",
              "      <td>0</td>\n",
              "      <td>0</td>\n",
              "      <td>0</td>\n",
              "      <td>0</td>\n",
              "      <td>0</td>\n",
              "      <td>...</td>\n",
              "      <td>0</td>\n",
              "      <td>0</td>\n",
              "      <td>0</td>\n",
              "      <td>0</td>\n",
              "      <td>0</td>\n",
              "      <td>0</td>\n",
              "      <td>0</td>\n",
              "      <td>0</td>\n",
              "      <td>0</td>\n",
              "      <td>0</td>\n",
              "      <td>0</td>\n",
              "      <td>0</td>\n",
              "      <td>0</td>\n",
              "      <td>0</td>\n",
              "      <td>0</td>\n",
              "      <td>1</td>\n",
              "      <td>0</td>\n",
              "      <td>0</td>\n",
              "      <td>0</td>\n",
              "      <td>0</td>\n",
              "      <td>0</td>\n",
              "      <td>0</td>\n",
              "      <td>0</td>\n",
              "      <td>0</td>\n",
              "      <td>0</td>\n",
              "      <td>0</td>\n",
              "      <td>0</td>\n",
              "      <td>0</td>\n",
              "      <td>0</td>\n",
              "      <td>0</td>\n",
              "      <td>0</td>\n",
              "      <td>0</td>\n",
              "      <td>0</td>\n",
              "      <td>0</td>\n",
              "      <td>0</td>\n",
              "      <td>0</td>\n",
              "      <td>0</td>\n",
              "      <td>0</td>\n",
              "      <td>1</td>\n",
              "      <td>0</td>\n",
              "    </tr>\n",
              "    <tr>\n",
              "      <th>4</th>\n",
              "      <td>0</td>\n",
              "      <td>0</td>\n",
              "      <td>0</td>\n",
              "      <td>0</td>\n",
              "      <td>0</td>\n",
              "      <td>0</td>\n",
              "      <td>0</td>\n",
              "      <td>0</td>\n",
              "      <td>0</td>\n",
              "      <td>0</td>\n",
              "      <td>0</td>\n",
              "      <td>0</td>\n",
              "      <td>0</td>\n",
              "      <td>0</td>\n",
              "      <td>0</td>\n",
              "      <td>1</td>\n",
              "      <td>0</td>\n",
              "      <td>0</td>\n",
              "      <td>0</td>\n",
              "      <td>0</td>\n",
              "      <td>0</td>\n",
              "      <td>0</td>\n",
              "      <td>0</td>\n",
              "      <td>0</td>\n",
              "      <td>0</td>\n",
              "      <td>0</td>\n",
              "      <td>0</td>\n",
              "      <td>0</td>\n",
              "      <td>0</td>\n",
              "      <td>0</td>\n",
              "      <td>0</td>\n",
              "      <td>0</td>\n",
              "      <td>0</td>\n",
              "      <td>0</td>\n",
              "      <td>0</td>\n",
              "      <td>0</td>\n",
              "      <td>0</td>\n",
              "      <td>0</td>\n",
              "      <td>0</td>\n",
              "      <td>0</td>\n",
              "      <td>...</td>\n",
              "      <td>0</td>\n",
              "      <td>0</td>\n",
              "      <td>0</td>\n",
              "      <td>0</td>\n",
              "      <td>0</td>\n",
              "      <td>0</td>\n",
              "      <td>0</td>\n",
              "      <td>0</td>\n",
              "      <td>0</td>\n",
              "      <td>0</td>\n",
              "      <td>0</td>\n",
              "      <td>0</td>\n",
              "      <td>0</td>\n",
              "      <td>0</td>\n",
              "      <td>0</td>\n",
              "      <td>0</td>\n",
              "      <td>0</td>\n",
              "      <td>0</td>\n",
              "      <td>0</td>\n",
              "      <td>0</td>\n",
              "      <td>0</td>\n",
              "      <td>0</td>\n",
              "      <td>0</td>\n",
              "      <td>0</td>\n",
              "      <td>0</td>\n",
              "      <td>0</td>\n",
              "      <td>0</td>\n",
              "      <td>0</td>\n",
              "      <td>0</td>\n",
              "      <td>0</td>\n",
              "      <td>0</td>\n",
              "      <td>0</td>\n",
              "      <td>0</td>\n",
              "      <td>0</td>\n",
              "      <td>0</td>\n",
              "      <td>0</td>\n",
              "      <td>0</td>\n",
              "      <td>0</td>\n",
              "      <td>1</td>\n",
              "      <td>0</td>\n",
              "    </tr>\n",
              "  </tbody>\n",
              "</table>\n",
              "<p>5 rows × 397 columns</p>\n",
              "</div>"
            ],
            "text/plain": [
              "   Country_Bangladesh  Country_Brazil  ...  Style_Pack  Style_Tray\n",
              "0                   0               0  ...           0           0\n",
              "1                   0               0  ...           1           0\n",
              "2                   0               0  ...           0           0\n",
              "3                   0               0  ...           1           0\n",
              "4                   0               0  ...           1           0\n",
              "\n",
              "[5 rows x 397 columns]"
            ]
          },
          "metadata": {
            "tags": []
          },
          "execution_count": 15
        }
      ]
    },
    {
      "cell_type": "code",
      "metadata": {
        "id": "aFpzrEYBbKG-",
        "colab_type": "code",
        "colab": {}
      },
      "source": [
        "# 特徴量とターゲットへ分割\n",
        "X = np.array(ramendf, dtype=np.float32) \n",
        "y = np.array(ramen[['Stars']], dtype=np.float32)"
      ],
      "execution_count": 0,
      "outputs": []
    },
    {
      "cell_type": "code",
      "metadata": {
        "id": "91lzgU_cd2hl",
        "colab_type": "code",
        "outputId": "5527627e-ee3d-4b72-83b3-f21cb8e757c7",
        "colab": {
          "base_uri": "https://localhost:8080/",
          "height": 35
        }
      },
      "source": [
        "y.shape"
      ],
      "execution_count": 0,
      "outputs": [
        {
          "output_type": "execute_result",
          "data": {
            "text/plain": [
              "(2577, 1)"
            ]
          },
          "metadata": {
            "tags": []
          },
          "execution_count": 17
        }
      ]
    },
    {
      "cell_type": "markdown",
      "metadata": {
        "id": "4JPSmuplcE4V",
        "colab_type": "text"
      },
      "source": [
        "線形回帰は nn.Linear() を利用します。損失関数として MSELoss() 、最適化関数として MSELoss() を利用します。\n",
        "\n",
        "・反復処理回数（epoch）を1000と設定\n",
        "\n",
        "・特徴量とターゲットを from_numpy() でNumpy配列からテンソルへ変換を行う\n",
        "\n",
        "・推測値（outputs）を出力、コスト関数で実際値（targets）と比較してコスト算出\n",
        "\n",
        "・誤差逆伝播の処理を実行"
      ]
    },
    {
      "cell_type": "code",
      "metadata": {
        "id": "JCp6XkOvbMz3",
        "colab_type": "code",
        "colab": {}
      },
      "source": [
        "# 線形回帰モデル\n",
        "model = nn.Linear(X.shape[1], y.shape[1])\n",
        "# 損失関数\n",
        "loss = nn.MSELoss()\n",
        "# 最適化関数\n",
        "optimizer = torch.optim.SGD(model.parameters(), lr=0.5)"
      ],
      "execution_count": 0,
      "outputs": []
    },
    {
      "cell_type": "code",
      "metadata": {
        "id": "L7HJ8F5JbM3q",
        "colab_type": "code",
        "outputId": "6006c537-c017-4ca0-ba97-73ca1ac4a07e",
        "colab": {
          "base_uri": "https://localhost:8080/",
          "height": 199
        }
      },
      "source": [
        "for epoch in range(1000):\n",
        "    # ステージ1 Numpy配列からテンソルへ変換\n",
        "    inputs = torch.from_numpy(X)\n",
        "    targets = torch.from_numpy(y)\n",
        "    \n",
        "    # ステージ2 推測値を出力して誤差（コスト）を算出\n",
        "    outputs = model(inputs)\n",
        "    cost = loss(outputs, targets)\n",
        "    \n",
        "    # ステージ3 誤差逆伝播（バックプロパゲーション）\n",
        "    optimizer.zero_grad()\n",
        "    cost.backward()\n",
        "    optimizer.step()\n",
        "    \n",
        "    # ステージ4 50回毎にコストを表示\n",
        "    if (epoch+1) % 100 == 0:\n",
        "        print ('Epoch [{}/{}], Loss: {:.4f}'.format(epoch+1, 1000, cost.item()))"
      ],
      "execution_count": 0,
      "outputs": [
        {
          "output_type": "stream",
          "text": [
            "Epoch [100/1000], Loss: 0.7868\n",
            "Epoch [200/1000], Loss: 0.7394\n",
            "Epoch [300/1000], Loss: 0.7106\n",
            "Epoch [400/1000], Loss: 0.6904\n",
            "Epoch [500/1000], Loss: 0.6753\n",
            "Epoch [600/1000], Loss: 0.6634\n",
            "Epoch [700/1000], Loss: 0.6537\n",
            "Epoch [800/1000], Loss: 0.6455\n",
            "Epoch [900/1000], Loss: 0.6386\n",
            "Epoch [1000/1000], Loss: 0.6327\n"
          ],
          "name": "stdout"
        }
      ]
    },
    {
      "cell_type": "code",
      "metadata": {
        "id": "SKjGXXNdbM7z",
        "colab_type": "code",
        "outputId": "fcff0af5-6db5-4f5c-e243-7933f5ce5e2e",
        "colab": {
          "base_uri": "https://localhost:8080/",
          "height": 162
        }
      },
      "source": [
        "# 予測を出力\n",
        "y_pred = model(torch.from_numpy(X)).data.numpy()\n",
        "print(y_pred)\n",
        "print('MSE score :',mean_squared_error(y, y_pred))"
      ],
      "execution_count": 0,
      "outputs": [
        {
          "output_type": "stream",
          "text": [
            "[[4.1026893]\n",
            " [2.9811954]\n",
            " [3.4563901]\n",
            " ...\n",
            " [2.9588928]\n",
            " [2.9588928]\n",
            " [2.3429844]]\n",
            "MSE score : 0.6325946\n"
          ],
          "name": "stdout"
        }
      ]
    }
  ]
}